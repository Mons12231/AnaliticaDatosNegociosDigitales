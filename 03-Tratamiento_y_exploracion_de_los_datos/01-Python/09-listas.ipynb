{
 "cells": [
  {
   "cell_type": "markdown",
   "id": "c9683617",
   "metadata": {},
   "source": [
    "## Listas \n",
    "1. Objetivos \n",
    "- Entender la sintaxis de la lista en python \n",
    "- Aprender a crear listas y accesarlas \n",
    "\n",
    "----\n",
    "\n",
    "2. Desarrollo \n",
    "\n",
    "## Creando listas y accediendo a ellas \n",
    "Las listas son secuencias ordenadas. El orden de los datos en la lista es el mismo orden que tienen los datos a la hora de ser asigandos. Una lista se ve asi:"
   ]
  },
  {
   "cell_type": "code",
   "execution_count": 1,
   "id": "93bcd52f",
   "metadata": {},
   "outputs": [
    {
     "data": {
      "text/plain": [
       "[1, 4, 6, 2, 4]"
      ]
     },
     "execution_count": 1,
     "metadata": {},
     "output_type": "execute_result"
    }
   ],
   "source": [
    "lista_1 = [1,4,6,2,4]\n",
    "lista_1"
   ]
  },
  {
   "cell_type": "code",
   "execution_count": null,
   "id": "523a78b1",
   "metadata": {},
   "outputs": [],
   "source": [
    "type (lista_1)"
   ]
  },
  {
   "cell_type": "markdown",
   "id": "985f437e",
   "metadata": {},
   "source": [
    "Cada elemento de la lsta tiene un indice, que se usa para acceder a dicho elemento dado que las listas son ordenas, los indices se van asigando secuencialmente desde el primer elemento hasta el ultimo. El primer indice es siempre `0` y por lo tanto, el ultimo indice es siempre `n-1` donde `n`  es el numero total de elementos en la lista. "
   ]
  },
  {
   "cell_type": "code",
   "execution_count": 2,
   "id": "27649394",
   "metadata": {},
   "outputs": [
    {
     "name": "stdout",
     "output_type": "stream",
     "text": [
      "primer elemento de la lista: 1\n",
      "el ultimo elemento de la lista: 4\n"
     ]
    }
   ],
   "source": [
    "# imprimir el primer elemento de la lista \n",
    "\n",
    "print(f'primer elemento de la lista: {lista_1[0]}')\n",
    "print(f'el ultimo elemento de la lista: {lista_1[4]}')"
   ]
  },
  {
   "cell_type": "code",
   "execution_count": 3,
   "id": "8f948427",
   "metadata": {},
   "outputs": [
    {
     "ename": "IndexError",
     "evalue": "list index out of range",
     "output_type": "error",
     "traceback": [
      "\u001b[1;31m---------------------------------------------------------------------------\u001b[0m",
      "\u001b[1;31mIndexError\u001b[0m                                Traceback (most recent call last)",
      "Cell \u001b[1;32mIn[3], line 1\u001b[0m\n\u001b[1;32m----> 1\u001b[0m \u001b[43mlista_1\u001b[49m\u001b[43m[\u001b[49m\u001b[38;5;241;43m5\u001b[39;49m\u001b[43m]\u001b[49m\n",
      "\u001b[1;31mIndexError\u001b[0m: list index out of range"
     ]
    }
   ],
   "source": [
    "lista_1[5]"
   ]
  },
  {
   "cell_type": "code",
   "execution_count": 2,
   "id": "f12ce4f8",
   "metadata": {},
   "outputs": [
    {
     "name": "stdout",
     "output_type": "stream",
     "text": [
      "contenido de la lista:[10, 5, 7, 2, 1]\n",
      "<class 'list'>\n"
     ]
    }
   ],
   "source": [
    "numbers = [10,5,7,2,1]\n",
    "# imprimir el contendio de la lista\n",
    "print(f'contenido de la lista:{numbers}')\n",
    "print(type(numbers))\n"
   ]
  },
  {
   "cell_type": "code",
   "execution_count": 3,
   "id": "25be10d1",
   "metadata": {},
   "outputs": [
    {
     "data": {
      "text/plain": [
       "2"
      ]
     },
     "execution_count": 3,
     "metadata": {},
     "output_type": "execute_result"
    }
   ],
   "source": [
    "#permite accesar al valor que se encuentra en la posicion\n",
    "numbers[3]\n"
   ]
  },
  {
   "cell_type": "markdown",
   "id": "4dd23af3",
   "metadata": {},
   "source": [
    "**Vamos asignar un nuevo valor 111, al primer elemento en la lista. Lo hacemos de la siguiente manera:**"
   ]
  },
  {
   "cell_type": "code",
   "execution_count": 5,
   "id": "b9f70b93",
   "metadata": {},
   "outputs": [
    {
     "name": "stdout",
     "output_type": "stream",
     "text": [
      "[111, 5, 7, 2, 1]\n"
     ]
    }
   ],
   "source": [
    "numbers[0] = 111\n",
    "print(numbers)"
   ]
  },
  {
   "cell_type": "code",
   "execution_count": 6,
   "id": "e033d5bb",
   "metadata": {},
   "outputs": [
    {
     "name": "stdout",
     "output_type": "stream",
     "text": [
      "[111, 1, 7, 2, 1]\n"
     ]
    }
   ],
   "source": [
    "#copiar el valor del quinto elemento al segundo\n",
    "numbers[1] = numbers[4]\n",
    "\n",
    "print(numbers)"
   ]
  },
  {
   "cell_type": "code",
   "execution_count": 8,
   "id": "21ad9bfe",
   "metadata": {},
   "outputs": [
    {
     "name": "stdout",
     "output_type": "stream",
     "text": [
      "1\n",
      "2\n"
     ]
    }
   ],
   "source": [
    "print (numbers [-1])\n",
    "print (numbers [-2])"
   ]
  },
  {
   "cell_type": "markdown",
   "id": "40cf2535",
   "metadata": {},
   "source": [
    "### Eliminando elementos de la lista "
   ]
  },
  {
   "cell_type": "markdown",
   "id": "777718c7",
   "metadata": {},
   "source": [
    "Cualquier elemento de la lista puede ser eliminado en cualquier momento - esto se hace con una instrucción llamada `del` (eliminar). Nota: es una instrucción, no una función.\n",
    "Tienes que apuntar al elemento que quieres eliminar - desaparecerá de la lista y la longitud de la lista se reducirá en uno."
   ]
  },
  {
   "cell_type": "code",
   "execution_count": 9,
   "id": "183ef53c",
   "metadata": {},
   "outputs": [
    {
     "name": "stdout",
     "output_type": "stream",
     "text": [
      "la lista actual es:[111, 1, 7, 2, 1]\n"
     ]
    }
   ],
   "source": [
    "print (f'la lista actual es:{numbers}')\n",
    "del numbers [2]\n"
   ]
  },
  {
   "cell_type": "code",
   "execution_count": 12,
   "id": "88b51867",
   "metadata": {},
   "outputs": [
    {
     "name": "stdout",
     "output_type": "stream",
     "text": [
      "la lista actual es:[111, 1, 2, 1]\n",
      "el tamano de la lista es 4\n"
     ]
    }
   ],
   "source": [
    "print (f'la lista actual es:{numbers}')\n",
    "print(f'el tamano de la lista es {len(numbers)}')"
   ]
  },
  {
   "cell_type": "code",
   "execution_count": 13,
   "id": "0315aa78",
   "metadata": {},
   "outputs": [
    {
     "name": "stdout",
     "output_type": "stream",
     "text": [
      "la lista actual es:[111, 1, 1]\n",
      "el tamano de la lista es 3\n"
     ]
    }
   ],
   "source": [
    "del numbers[-2]\n",
    "print (f'la lista actual es:{numbers}')\n",
    "print(f'el tamano de la lista es {len(numbers)}')"
   ]
  },
  {
   "cell_type": "code",
   "execution_count": 14,
   "id": "9e9ff3bf",
   "metadata": {},
   "outputs": [],
   "source": [
    "lista_prueba = [1,2,4,6,2,11]\n",
    "#remove -> elimina o remueve la primera coincidencia de un valor que se le indica \n",
    "lista_prueba.remove(2)"
   ]
  },
  {
   "cell_type": "code",
   "execution_count": 15,
   "id": "16e1eaf1",
   "metadata": {},
   "outputs": [
    {
     "name": "stdout",
     "output_type": "stream",
     "text": [
      "la lista actual es:[1, 4, 6, 2, 11]\n",
      "el tamano de la lista es 5\n"
     ]
    }
   ],
   "source": [
    "print (f'la lista actual es:{lista_prueba}')\n",
    "print(f'el tamano de la lista es {len(lista_prueba)}')"
   ]
  },
  {
   "cell_type": "code",
   "execution_count": 19,
   "id": "49503c88",
   "metadata": {},
   "outputs": [],
   "source": [
    "lista_prueba = [1,2,4,6,2,11,2]"
   ]
  },
  {
   "cell_type": "code",
   "execution_count": 22,
   "id": "a1a328c4",
   "metadata": {},
   "outputs": [],
   "source": [
    "def eliminar (valor):\n",
    "    \n",
    "    for indice, elemento in enumerate(lista_prueba):\n",
    "       # print(f'Indice: {indice}, Elemento: {elemento} ')\n",
    "       if elemento == valor:\n",
    "           del lista_prueba[indice]"
   ]
  },
  {
   "cell_type": "code",
   "execution_count": 23,
   "id": "78d6af6d",
   "metadata": {},
   "outputs": [
    {
     "name": "stdout",
     "output_type": "stream",
     "text": [
      "lista actual [1, 4, 6, 11]\n",
      "lista despues de eliminar [1, 4, 6, 11]\n"
     ]
    }
   ],
   "source": [
    "print(f'lista actual {lista_prueba}')\n",
    "eliminar (2)\n",
    "print(f'lista despues de eliminar {lista_prueba}')"
   ]
  },
  {
   "cell_type": "markdown",
   "id": "113f3c93",
   "metadata": {},
   "source": [
    "### Los indices negativos son legales \n",
    "\n",
    "`Un elemento con indice igual a -1 es el ultimo en la lista`"
   ]
  },
  {
   "cell_type": "code",
   "execution_count": null,
   "id": "0d55a596",
   "metadata": {},
   "outputs": [],
   "source": [
    "numbers_2 = [111, 7, 2, 1]\n",
    "print (f'el ultimo valor de la lista es {numbers_2[-1]}')"
   ]
  },
  {
   "cell_type": "code",
   "execution_count": null,
   "id": "b348787e",
   "metadata": {},
   "outputs": [],
   "source": [
    "numbers_2 = [111, 7,2,1]\n",
    "print (f'el ultimo valor de la lista es {numbers_2[-3]}')"
   ]
  },
  {
   "cell_type": "markdown",
   "id": "487eb098",
   "metadata": {},
   "source": [
    "### Ejercicio de lista 1 \n",
    "\n",
    "\n",
    "hat_list = [1, 2, 3, 4, 5]  # Esta es una lista existente de números ocultos en el sombrero.\n",
    "\n",
    "# Paso 1: escribe una línea de código que solicite al usuario\n",
    "# reemplazar el número de en medio con un número entero ingresado por el usuario.\n",
    "\n",
    "# Paso 2: escribe aquí una línea de código que elimine el último elemento de la lista.\n",
    "\n",
    "# Paso 3: escribe aquí una línea de código que imprima la longitud de la lista existente.\n",
    "\n",
    "print(hat_list)"
   ]
  },
  {
   "cell_type": "markdown",
   "id": "01189196",
   "metadata": {},
   "source": [
    "## Agregando elementos a una lista : append() e insert ()\n",
    "Un nuevo elemento puede ser anadido al final de la lista existente :\n",
    "`list.append(value)`\n",
    "El metodo `insert()` es un poco mas inteligente - puede agregar un nuevo elemento en cualquier lugar de la lista, no solo al final\n",
    "`list.insert(location,value)`\n",
    "Toma dos argumentos:\n",
    "\n",
    "- el primero muestra la ubicación requerida del elemento a insertar; nota: todos los elementos existentes que ocupan ubicaciones a la derecha del nuevo elemento (incluido el que está en la posición indicada) se desplazan a la derecha, para hacer espacio para el nuevo elemento;\n",
    "-  el segundo es el elemento a insertar.\n"
   ]
  },
  {
   "cell_type": "code",
   "execution_count": 24,
   "id": "917ede08",
   "metadata": {},
   "outputs": [
    {
     "name": "stdout",
     "output_type": "stream",
     "text": [
      "el tamano de la lista orginal es [123, 8, 4, 1]\n",
      "el tamano de la lista es 4\n",
      "la lista despues de agregar al final es: [123, 8, 4, 1, 10]\n",
      "el tamano de la lista es: 5\n"
     ]
    }
   ],
   "source": [
    "numbers_3 = [123,8,4,1]\n",
    "print(f'el tamano de la lista orginal es {numbers_3}')\n",
    "print(f'el tamano de la lista es {len(numbers_3)}')\n",
    "\n",
    "# agregar un valor al final de la lista con el metodo append\n",
    "\n",
    "numbers_3.append(10)\n",
    "print(f'la lista despues de agregar al final es: {numbers_3}')\n",
    "print(f'el tamano de la lista es: {len(numbers_3)}')\n"
   ]
  },
  {
   "cell_type": "code",
   "execution_count": 25,
   "id": "16d9ad58",
   "metadata": {},
   "outputs": [],
   "source": [
    "def agregarAlfinal(valor):\n",
    "    numbers_3[-1] = valor "
   ]
  },
  {
   "cell_type": "code",
   "execution_count": 26,
   "id": "7f95d861",
   "metadata": {},
   "outputs": [
    {
     "name": "stdout",
     "output_type": "stream",
     "text": [
      "la lista despues de agregar al final es: [123, 8, 4, 1, 11]\n",
      "el tamano de la lista es: 5\n"
     ]
    }
   ],
   "source": [
    "agregarAlfinal(11)\n",
    "print(f'la lista despues de agregar al final es: {numbers_3}')\n",
    "print(f'el tamano de la lista es: {len(numbers_3)}')"
   ]
  },
  {
   "cell_type": "code",
   "execution_count": 27,
   "id": "16078bdb",
   "metadata": {},
   "outputs": [
    {
     "name": "stdout",
     "output_type": "stream",
     "text": [
      "La lista actual es: [123, 8, 4, 1, 11]\n",
      "El tamano de la lista es 5\n",
      "La lista actual es: [222, 123, 8, 4, 1, 11]\n",
      "El tamano de la lista es 6\n"
     ]
    }
   ],
   "source": [
    "## Metodo insert\n",
    "print(f'La lista actual es: {numbers_3}')\n",
    "print(f'El tamano de la lista es {len(numbers_3)}')\n",
    "\n",
    "numbers_3.insert(0,222)\n",
    "print(f'La lista actual es: {numbers_3}')\n",
    "print(f'El tamano de la lista es {len(numbers_3)}')\n"
   ]
  },
  {
   "cell_type": "code",
   "execution_count": 32,
   "id": "72752418",
   "metadata": {},
   "outputs": [],
   "source": [
    "def llenar_lista_append(valor):\n",
    "    my_list = [] # crea una lista vacia \n",
    "    for i in range (valor):\n",
    "        my_list.append(i+1)\n",
    "    print(my_list)\n",
    "    return my_list"
   ]
  },
  {
   "cell_type": "code",
   "execution_count": 33,
   "id": "6c77ae4f",
   "metadata": {},
   "outputs": [],
   "source": [
    "def imprimir_lista (lista) :\n",
    "    print (f'la lista es {lista}')\n"
   ]
  },
  {
   "cell_type": "code",
   "execution_count": 34,
   "id": "a9c1cea6",
   "metadata": {},
   "outputs": [
    {
     "name": "stdout",
     "output_type": "stream",
     "text": [
      "[1, 2, 3, 4, 5, 6, 7, 8, 9, 10]\n"
     ]
    }
   ],
   "source": [
    "lista =llenar_lista_append(10)"
   ]
  },
  {
   "cell_type": "code",
   "execution_count": 36,
   "id": "83febff7",
   "metadata": {},
   "outputs": [
    {
     "name": "stdout",
     "output_type": "stream",
     "text": [
      "[5, 4, 3, 2, 1]\n"
     ]
    }
   ],
   "source": [
    "my_list = []\n",
    "for i in range(5):\n",
    "    my_list.insert(0,i+1)\n",
    "print(my_list)"
   ]
  },
  {
   "cell_type": "code",
   "execution_count": 37,
   "id": "8243ef79",
   "metadata": {},
   "outputs": [
    {
     "name": "stdout",
     "output_type": "stream",
     "text": [
      "10\n",
      "1\n",
      "8\n",
      "3\n",
      "5\n"
     ]
    }
   ],
   "source": [
    "#recorrer la lista con un ciclo \n",
    "mi_lista = [10,1,8,3,5]\n",
    "for i in mi_lista:\n",
    "    print(i)"
   ]
  },
  {
   "cell_type": "code",
   "execution_count": 38,
   "id": "3811968c",
   "metadata": {},
   "outputs": [
    {
     "name": "stdout",
     "output_type": "stream",
     "text": [
      "la suma de los valores de la lista es 27\n"
     ]
    }
   ],
   "source": [
    "#sumar los valores de la lista \n",
    "total = 0 \n",
    "for i in mi_lista:\n",
    "    total+= i\n",
    "print (f'la suma de los valores de la lista es {total}')"
   ]
  },
  {
   "cell_type": "markdown",
   "id": "ace38218",
   "metadata": {},
   "source": [
    "### Realizar un programa que permita almacenar varias calificaciones en una lista para despues sacar el promedio de ellas, utilizando una funcion"
   ]
  },
  {
   "cell_type": "code",
   "execution_count": 41,
   "id": "2ab342d1",
   "metadata": {},
   "outputs": [],
   "source": [
    "def guardar_calificaciones (numero):\n",
    "    lista_calificaciones = []\n",
    "    i = 1\n",
    "\n",
    "    while i <=numero:\n",
    "        calificacion = float(input(f'solicita la calificacion{i}'))\n",
    "        lista_calificaciones.append(calificacion)\n",
    "        i+=1\n",
    "        \n",
    "    return lista_calificaciones"
   ]
  },
  {
   "cell_type": "code",
   "execution_count": 45,
   "id": "9c2d6b41",
   "metadata": {},
   "outputs": [],
   "source": [
    "def guardar_calificaciones_2 (numero):\n",
    "    lista_calificaciones = []\n",
    "    i = 1\n",
    "\n",
    "    for i in range(numero):\n",
    "        calificacion = float(input(f'solicita la calificacion{i}'))\n",
    "        lista_calificaciones.append(calificacion)\n",
    "        \n",
    "        \n",
    "    return lista_calificaciones"
   ]
  },
  {
   "cell_type": "code",
   "execution_count": 46,
   "id": "cbf00ca2",
   "metadata": {},
   "outputs": [
    {
     "name": "stdout",
     "output_type": "stream",
     "text": [
      "[7.8, 5.6, 10.0, 9.1, 4.6]\n"
     ]
    }
   ],
   "source": [
    "lista = guardar_calificaciones(5)\n",
    "print(lista)"
   ]
  }
 ],
 "metadata": {
  "kernelspec": {
   "display_name": "Python 3",
   "language": "python",
   "name": "python3"
  },
  "language_info": {
   "codemirror_mode": {
    "name": "ipython",
    "version": 3
   },
   "file_extension": ".py",
   "mimetype": "text/x-python",
   "name": "python",
   "nbconvert_exporter": "python",
   "pygments_lexer": "ipython3",
   "version": "3.12.10"
  }
 },
 "nbformat": 4,
 "nbformat_minor": 5
}

{
 "cells": [
  {
   "cell_type": "markdown",
   "id": "0a54f6b7",
   "metadata": {},
   "source": [
    "# Ejemplo 1 . Este es un notebook de practica \n",
    "\n",
    "---\n",
    "\n",
    "### 1.Objetivos \n",
    "   - Repasar rapidamente como funciona un jypiter notebook \n",
    "\n",
    "### 2. Requisitos \n",
    "   - Jupyter notebook instalado \n",
    "\n",
    "---\n"
   ]
  },
  {
   "cell_type": "markdown",
   "id": "dda0958c",
   "metadata": {},
   "source": [
    "En JN tenemos `modo comando` y `modo edicion`.\n",
    "\n",
    "- El `modo edicion` sirve para editar celdas.\n",
    "- El `modo comando` sirve para usar comandos en el JN "
   ]
  },
  {
   "cell_type": "markdown",
   "id": "d16cb531",
   "metadata": {},
   "source": [
    "Esto es una celda `Markdown`"
   ]
  },
  {
   "cell_type": "code",
   "execution_count": 2,
   "id": "3e5418e3",
   "metadata": {},
   "outputs": [],
   "source": [
    "# Esto es una celda de codigo \n",
    "# y yo soy un comentario...."
   ]
  },
  {
   "cell_type": "markdown",
   "id": "25e7507b",
   "metadata": {},
   "source": [
    "Escribamos algo de codigo para recordar"
   ]
  },
  {
   "cell_type": "code",
   "execution_count": 6,
   "id": "6115b3cf",
   "metadata": {},
   "outputs": [
    {
     "data": {
      "text/plain": [
       "9"
      ]
     },
     "execution_count": 6,
     "metadata": {},
     "output_type": "execute_result"
    }
   ],
   "source": [
    "var_1 = 4\n",
    "var_2 = 5\n",
    "\n",
    "var_1 + var_2"
   ]
  },
  {
   "cell_type": "code",
   "execution_count": 7,
   "id": "f8564d70",
   "metadata": {},
   "outputs": [
    {
     "name": "stdout",
     "output_type": "stream",
     "text": [
      "4 5\n"
     ]
    }
   ],
   "source": [
    "print(var_1,var_2)"
   ]
  },
  {
   "cell_type": "code",
   "execution_count": 8,
   "id": "0b9cd5c2",
   "metadata": {},
   "outputs": [
    {
     "name": "stdout",
     "output_type": "stream",
     "text": [
      "4,5\n"
     ]
    }
   ],
   "source": [
    "print(str(var_1) + ',' + str(var_2))"
   ]
  },
  {
   "cell_type": "code",
   "execution_count": 9,
   "id": "f41483c1",
   "metadata": {},
   "outputs": [
    {
     "name": "stdout",
     "output_type": "stream",
     "text": [
      "9\n"
     ]
    }
   ],
   "source": [
    "print(var_1 + var_2)"
   ]
  },
  {
   "cell_type": "code",
   "execution_count": 10,
   "id": "f87e756c",
   "metadata": {},
   "outputs": [
    {
     "name": "stdout",
     "output_type": "stream",
     "text": [
      "15\n"
     ]
    }
   ],
   "source": [
    "var_1 = 10\n",
    "print(var_1+var_2)"
   ]
  }
 ],
 "metadata": {
  "kernelspec": {
   "display_name": "Python 3",
   "language": "python",
   "name": "python3"
  },
  "language_info": {
   "codemirror_mode": {
    "name": "ipython",
    "version": 3
   },
   "file_extension": ".py",
   "mimetype": "text/x-python",
   "name": "python",
   "nbconvert_exporter": "python",
   "pygments_lexer": "ipython3",
   "version": "3.12.10"
  }
 },
 "nbformat": 4,
 "nbformat_minor": 5
}

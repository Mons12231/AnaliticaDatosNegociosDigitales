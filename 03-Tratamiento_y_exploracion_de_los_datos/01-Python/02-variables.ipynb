{
 "cells": [
  {
   "cell_type": "markdown",
   "id": "38e1b076",
   "metadata": {},
   "source": [
    "# Ejemplo 2. Varibles\n",
    "\n",
    "## 1. Objetivos:\n",
    "- Entender cual  es la sintaxis de la asignacion de variables en python \n",
    "- Aprender la convencion de nombramiento de variables \n"
   ]
  },
  {
   "cell_type": "markdown",
   "id": "ae1eed7d",
   "metadata": {},
   "source": [
    "### 2. Desarrollo:\n",
    "\n",
    "Los siguientes nombres son nombres posibles de variables en python:\n",
    "\n",
    "- var_1\n",
    "- variable_2\n",
    "- variable_dos\n",
    "- variable_nueva_tres\n",
    "- esta_es_una_variable_nueva"
   ]
  },
  {
   "cell_type": "markdown",
   "id": "5b303505",
   "metadata": {},
   "source": [
    "Los siguientes son nombres invalidos para una varible en python:\n",
    "\n",
    "- 1_2\n",
    "- 1_variable \n",
    "- variableDos\n",
    "- EstaEsUnaVariable\n",
    "- Soy una variable "
   ]
  },
  {
   "cell_type": "markdown",
   "id": "6d2516c2",
   "metadata": {},
   "source": [
    "Asignemos unas cuantas variables:"
   ]
  },
  {
   "cell_type": "code",
   "execution_count": 4,
   "id": "2b4c3d06",
   "metadata": {},
   "outputs": [],
   "source": [
    "var_1 = 3 \n",
    "var_2 = 6 \n",
    "variable_3 = 10\n",
    "variable_nueva_4 = 20"
   ]
  },
  {
   "cell_type": "markdown",
   "id": "3bacd9af",
   "metadata": {},
   "source": [
    "Podemos acceder a su contenido con tan solo escribir el nombre de la variable en una celda y correrla "
   ]
  },
  {
   "cell_type": "code",
   "execution_count": 5,
   "id": "80e76767",
   "metadata": {},
   "outputs": [
    {
     "data": {
      "text/plain": [
       "3"
      ]
     },
     "execution_count": 5,
     "metadata": {},
     "output_type": "execute_result"
    }
   ],
   "source": [
    "var_1"
   ]
  },
  {
   "cell_type": "code",
   "execution_count": 6,
   "id": "6135cb01",
   "metadata": {},
   "outputs": [
    {
     "data": {
      "text/plain": [
       "20"
      ]
     },
     "execution_count": 6,
     "metadata": {},
     "output_type": "execute_result"
    }
   ],
   "source": [
    "variable_nueva_4"
   ]
  },
  {
   "cell_type": "markdown",
   "id": "b0275805",
   "metadata": {},
   "source": [
    "Si intento llamar una variable que no se ha asignado o no existe, JN va a lanzar un error "
   ]
  },
  {
   "cell_type": "code",
   "execution_count": 7,
   "id": "9e0e053a",
   "metadata": {},
   "outputs": [
    {
     "ename": "NameError",
     "evalue": "name 'var_5' is not defined",
     "output_type": "error",
     "traceback": [
      "\u001b[1;31m---------------------------------------------------------------------------\u001b[0m",
      "\u001b[1;31mNameError\u001b[0m                                 Traceback (most recent call last)",
      "Cell \u001b[1;32mIn[7], line 1\u001b[0m\n\u001b[1;32m----> 1\u001b[0m \u001b[43mvar_5\u001b[49m\n",
      "\u001b[1;31mNameError\u001b[0m: name 'var_5' is not defined"
     ]
    }
   ],
   "source": [
    "var_5"
   ]
  },
  {
   "cell_type": "markdown",
   "id": "7e4c0d7b",
   "metadata": {},
   "source": [
    "De igual, manera si se escribe una asignacion, pero no se corre la celda, esa variable no estara disponible para el notebook mas adelante "
   ]
  },
  {
   "cell_type": "code",
   "execution_count": 9,
   "id": "c1a5f2fd",
   "metadata": {},
   "outputs": [],
   "source": [
    "var_2 =66"
   ]
  },
  {
   "cell_type": "code",
   "execution_count": 10,
   "id": "0cb58bc3",
   "metadata": {},
   "outputs": [
    {
     "data": {
      "text/plain": [
       "66"
      ]
     },
     "execution_count": 10,
     "metadata": {},
     "output_type": "execute_result"
    }
   ],
   "source": [
    "var_2"
   ]
  },
  {
   "cell_type": "markdown",
   "id": "a9f2088b",
   "metadata": {},
   "source": [
    "## Reto 1: Variables \n",
    "\n",
    "### 1. Objetivos \n",
    "- practicar convencion de nombramiento y asignacion de variables \n",
    "\n",
    "### 2.Desarrollo\n",
    "- realizar la siguiente practica"
   ]
  },
  {
   "cell_type": "code",
   "execution_count": 12,
   "id": "90883e26",
   "metadata": {},
   "outputs": [],
   "source": [
    "#asigna el numero 12345, llamada variable locochona\n",
    "variable_locochona = 12345\n",
    "# asigna el numero 14.567 a la variable var decimal \n",
    "var_decimal = 14.567\n",
    "# asigna un numero cualquiera a una variable que tenga cinco palabras en su nombre \n",
    "uno_dos_tres_cuatro_cinco = True\n",
    "# asigna cualquier numero a una variable que incluya palabras y numeros en su nombre\n",
    "uno_dos_123 = 'hola locochon'"
   ]
  }
 ],
 "metadata": {
  "kernelspec": {
   "display_name": "Python 3",
   "language": "python",
   "name": "python3"
  },
  "language_info": {
   "codemirror_mode": {
    "name": "ipython",
    "version": 3
   },
   "file_extension": ".py",
   "mimetype": "text/x-python",
   "name": "python",
   "nbconvert_exporter": "python",
   "pygments_lexer": "ipython3",
   "version": "3.12.10"
  }
 },
 "nbformat": 4,
 "nbformat_minor": 5
}

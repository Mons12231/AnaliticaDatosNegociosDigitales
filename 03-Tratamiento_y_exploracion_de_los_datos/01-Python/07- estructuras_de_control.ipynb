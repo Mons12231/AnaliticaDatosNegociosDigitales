{
 "cells": [
  {
   "cell_type": "markdown",
   "id": "e0cb4d4c",
   "metadata": {},
   "source": [
    "## Estructuras de control \n",
    "\n",
    "### Objetivos:\n",
    "- Conocer las estructuras de control, como funcionan y para que sirven\n",
    "\n",
    "---\n",
    "\n",
    "### Desarrollo "
   ]
  },
  {
   "cell_type": "markdown",
   "id": "cbdb026e",
   "metadata": {},
   "source": [
    "Queremos darle a nuestro programa la capacidad de tomar decisiones. Esto puede hacerse utilizando una `sentencia if ` utiliza una comparacion para obtener un boolean. Si el booleano es `true`, el bloque de la sentencia se ejecuta . Si el booleano es `false` nos saltamos a lo que sigue despues del bloque. "
   ]
  },
  {
   "cell_type": "code",
   "execution_count": 1,
   "id": "3e89364a",
   "metadata": {},
   "outputs": [],
   "source": [
    "var_1 = 4 \n",
    "var_2 = 5 \n"
   ]
  },
  {
   "cell_type": "code",
   "execution_count": 2,
   "id": "83a6780a",
   "metadata": {},
   "outputs": [
    {
     "name": "stdout",
     "output_type": "stream",
     "text": [
      "el bloque se ha ejecutado\n"
     ]
    }
   ],
   "source": [
    "if var_1 < var_2:\n",
    "     print(\"el bloque se ha ejecutado\")"
   ]
  },
  {
   "cell_type": "code",
   "execution_count": 3,
   "id": "0436d08f",
   "metadata": {},
   "outputs": [
    {
     "ename": "KeyboardInterrupt",
     "evalue": "Interrupted by user",
     "output_type": "error",
     "traceback": [
      "\u001b[1;31m---------------------------------------------------------------------------\u001b[0m",
      "\u001b[1;31mKeyboardInterrupt\u001b[0m                         Traceback (most recent call last)",
      "Cell \u001b[1;32mIn[3], line 1\u001b[0m\n\u001b[1;32m----> 1\u001b[0m var_1 \u001b[38;5;241m=\u001b[39m \u001b[38;5;28mint\u001b[39m(\u001b[38;5;28;43minput\u001b[39;49m\u001b[43m(\u001b[49m\u001b[38;5;124;43m\"\u001b[39;49m\u001b[38;5;124;43mintroduce el valor\u001b[39;49m\u001b[38;5;124;43m\"\u001b[39;49m\u001b[43m)\u001b[49m)\n\u001b[0;32m      2\u001b[0m var_2 \u001b[38;5;241m=\u001b[39m \u001b[38;5;28mint\u001b[39m(\u001b[38;5;28minput\u001b[39m(\u001b[38;5;124m\"\u001b[39m\u001b[38;5;124mintroduce el valor\u001b[39m\u001b[38;5;124m\"\u001b[39m))\n\u001b[0;32m      4\u001b[0m \u001b[38;5;28;01mif\u001b[39;00m var_1 \u001b[38;5;241m<\u001b[39m var_2:\n",
      "File \u001b[1;32m~\\AppData\\Local\\Packages\\PythonSoftwareFoundation.Python.3.12_qbz5n2kfra8p0\\LocalCache\\local-packages\\Python312\\site-packages\\ipykernel\\kernelbase.py:1282\u001b[0m, in \u001b[0;36mKernel.raw_input\u001b[1;34m(self, prompt)\u001b[0m\n\u001b[0;32m   1280\u001b[0m     msg \u001b[38;5;241m=\u001b[39m \u001b[38;5;124m\"\u001b[39m\u001b[38;5;124mraw_input was called, but this frontend does not support input requests.\u001b[39m\u001b[38;5;124m\"\u001b[39m\n\u001b[0;32m   1281\u001b[0m     \u001b[38;5;28;01mraise\u001b[39;00m StdinNotImplementedError(msg)\n\u001b[1;32m-> 1282\u001b[0m \u001b[38;5;28;01mreturn\u001b[39;00m \u001b[38;5;28;43mself\u001b[39;49m\u001b[38;5;241;43m.\u001b[39;49m\u001b[43m_input_request\u001b[49m\u001b[43m(\u001b[49m\n\u001b[0;32m   1283\u001b[0m \u001b[43m    \u001b[49m\u001b[38;5;28;43mstr\u001b[39;49m\u001b[43m(\u001b[49m\u001b[43mprompt\u001b[49m\u001b[43m)\u001b[49m\u001b[43m,\u001b[49m\n\u001b[0;32m   1284\u001b[0m \u001b[43m    \u001b[49m\u001b[38;5;28;43mself\u001b[39;49m\u001b[38;5;241;43m.\u001b[39;49m\u001b[43m_parent_ident\u001b[49m\u001b[43m[\u001b[49m\u001b[38;5;124;43m\"\u001b[39;49m\u001b[38;5;124;43mshell\u001b[39;49m\u001b[38;5;124;43m\"\u001b[39;49m\u001b[43m]\u001b[49m\u001b[43m,\u001b[49m\n\u001b[0;32m   1285\u001b[0m \u001b[43m    \u001b[49m\u001b[38;5;28;43mself\u001b[39;49m\u001b[38;5;241;43m.\u001b[39;49m\u001b[43mget_parent\u001b[49m\u001b[43m(\u001b[49m\u001b[38;5;124;43m\"\u001b[39;49m\u001b[38;5;124;43mshell\u001b[39;49m\u001b[38;5;124;43m\"\u001b[39;49m\u001b[43m)\u001b[49m\u001b[43m,\u001b[49m\n\u001b[0;32m   1286\u001b[0m \u001b[43m    \u001b[49m\u001b[43mpassword\u001b[49m\u001b[38;5;241;43m=\u001b[39;49m\u001b[38;5;28;43;01mFalse\u001b[39;49;00m\u001b[43m,\u001b[49m\n\u001b[0;32m   1287\u001b[0m \u001b[43m\u001b[49m\u001b[43m)\u001b[49m\n",
      "File \u001b[1;32m~\\AppData\\Local\\Packages\\PythonSoftwareFoundation.Python.3.12_qbz5n2kfra8p0\\LocalCache\\local-packages\\Python312\\site-packages\\ipykernel\\kernelbase.py:1325\u001b[0m, in \u001b[0;36mKernel._input_request\u001b[1;34m(self, prompt, ident, parent, password)\u001b[0m\n\u001b[0;32m   1322\u001b[0m \u001b[38;5;28;01mexcept\u001b[39;00m \u001b[38;5;167;01mKeyboardInterrupt\u001b[39;00m:\n\u001b[0;32m   1323\u001b[0m     \u001b[38;5;66;03m# re-raise KeyboardInterrupt, to truncate traceback\u001b[39;00m\n\u001b[0;32m   1324\u001b[0m     msg \u001b[38;5;241m=\u001b[39m \u001b[38;5;124m\"\u001b[39m\u001b[38;5;124mInterrupted by user\u001b[39m\u001b[38;5;124m\"\u001b[39m\n\u001b[1;32m-> 1325\u001b[0m     \u001b[38;5;28;01mraise\u001b[39;00m \u001b[38;5;167;01mKeyboardInterrupt\u001b[39;00m(msg) \u001b[38;5;28;01mfrom\u001b[39;00m\u001b[38;5;250m \u001b[39m\u001b[38;5;28;01mNone\u001b[39;00m\n\u001b[0;32m   1326\u001b[0m \u001b[38;5;28;01mexcept\u001b[39;00m \u001b[38;5;167;01mException\u001b[39;00m:\n\u001b[0;32m   1327\u001b[0m     \u001b[38;5;28mself\u001b[39m\u001b[38;5;241m.\u001b[39mlog\u001b[38;5;241m.\u001b[39mwarning(\u001b[38;5;124m\"\u001b[39m\u001b[38;5;124mInvalid Message:\u001b[39m\u001b[38;5;124m\"\u001b[39m, exc_info\u001b[38;5;241m=\u001b[39m\u001b[38;5;28;01mTrue\u001b[39;00m)\n",
      "\u001b[1;31mKeyboardInterrupt\u001b[0m: Interrupted by user"
     ]
    }
   ],
   "source": [
    "var_1 = int(input(\"introduce el valor\"))\n",
    "var_2 = int(input(\"introduce el valor\"))\n",
    "\n",
    "if var_1 < var_2:\n",
    "    print(f\"el numero {var_1} es menor que {var_2}\")"
   ]
  },
  {
   "cell_type": "code",
   "execution_count": null,
   "id": "9cbc30a2",
   "metadata": {},
   "outputs": [],
   "source": [
    "# funcion que solicita un valor \n",
    "\n",
    "def solicitar():\n",
    "    return int(input(\"introduce el valor\"))"
   ]
  },
  {
   "cell_type": "code",
   "execution_count": null,
   "id": "fa0c65b2",
   "metadata": {},
   "outputs": [],
   "source": [
    "#funcion que hace la comparacion\n",
    "\n",
    "def comparar(valor_uno,valor_dos):\n",
    "    if valor_uno < valor_dos:\n",
    "           print(f\"el numero {var_1} es menor que {var_2}\")"
   ]
  },
  {
   "cell_type": "code",
   "execution_count": null,
   "id": "511a758b",
   "metadata": {},
   "outputs": [
    {
     "name": "stdout",
     "output_type": "stream",
     "text": [
      "el numero 1 es menor que 5\n"
     ]
    }
   ],
   "source": [
    "# ejecucion de las funciones\n",
    "var_1 = solicitar()\n",
    "var_2 = solicitar()\n",
    "\n",
    "comparar(var_1,var_2)"
   ]
  },
  {
   "cell_type": "markdown",
   "id": "8e41b5ab",
   "metadata": {},
   "source": [
    "1. **Desarrollar un programa que determine si un numero es positivo**\n",
    "2. **Desarrollar un programa que determine si puedes votar, la edad minima es de 18**\n",
    "3. **Verificar si un numero es par**\n",
    "4. **Realizar la simulacion de un login, en el cual se debe de verificar si la contrasena es correcta**\n",
    "5. **Realizar un programa que determine si un alummno esta aprobado,la calificacion minima es 7**\n",
    "\n",
    "Todos los datos deben ser solicitados "
   ]
  },
  {
   "cell_type": "code",
   "execution_count": null,
   "id": "2d2ab0c0",
   "metadata": {},
   "outputs": [
    {
     "name": "stdout",
     "output_type": "stream",
     "text": [
      "el numero es positivo\n"
     ]
    }
   ],
   "source": [
    "#1\n",
    "numero = int(input(\"introduce el numero\"))\n",
    "\n",
    "if  numero > 0:\n",
    "    print(f\"el numero es positivo\")\n"
   ]
  },
  {
   "cell_type": "code",
   "execution_count": 8,
   "id": "1d4280e1",
   "metadata": {},
   "outputs": [
    {
     "name": "stdout",
     "output_type": "stream",
     "text": [
      "puedes votar\n"
     ]
    }
   ],
   "source": [
    "#2\n",
    "edad = int(input(\"introduce tu edad\"))\n",
    "\n",
    "if (edad >=18):\n",
    "    print('puedes votar')"
   ]
  },
  {
   "cell_type": "code",
   "execution_count": null,
   "id": "178a736a",
   "metadata": {},
   "outputs": [
    {
     "name": "stdout",
     "output_type": "stream",
     "text": [
      "el numero  14 es par\n"
     ]
    }
   ],
   "source": [
    "#3\n",
    "numeropar = int(input(\"introduce el numero\"))\n",
    "if numeropar % 2 == 0:\n",
    "    print(f'el numero  {numeropar} es par')"
   ]
  },
  {
   "cell_type": "code",
   "execution_count": null,
   "id": "3a929754",
   "metadata": {},
   "outputs": [
    {
     "name": "stdout",
     "output_type": "stream",
     "text": [
      "tienes acceso total\n"
     ]
    }
   ],
   "source": [
    "#4\n",
    "\n",
    "contrasena = 123 \n",
    "password = int(input('introduce la contrasena'))\n",
    "\n",
    "if password == contrasena:\n",
    "    print ('tienes acceso total')\n",
    "else:\n",
    "    print('saquese...')"
   ]
  },
  {
   "cell_type": "code",
   "execution_count": null,
   "id": "96ded3dd",
   "metadata": {},
   "outputs": [
    {
     "name": "stdout",
     "output_type": "stream",
     "text": [
      "aprobado\n"
     ]
    }
   ],
   "source": [
    "#5\n",
    "calificacion = solicitar()\n",
    "if calificacion <= 7:\n",
    "    print('aprobado')"
   ]
  },
  {
   "cell_type": "markdown",
   "id": "041e0992",
   "metadata": {},
   "source": [
    "## Operadores logicos \n",
    "\n",
    "---\n",
    "\n",
    "### Operador or\n",
    "\n",
    "| A   | B   | A or B |\n",
    "|-----|-----|--------|\n",
    "| F   | F   | F      |\n",
    "| T   | F   | T      |\n",
    "| F   | T   | T      |\n",
    "| T   | T   | T      |\n",
    "\n",
    "### Operador and\n",
    "\n",
    "| A   | B   | A and B |\n",
    "|-----|-----|---------|\n",
    "| F   | F   | F       |\n",
    "| T   | F   | F       |\n",
    "| F   | T   | F       |\n",
    "| T   | T   | T       |\n",
    "\n",
    "### Operador not\n",
    "\n",
    "| A   | not A |\n",
    "|-----|--------|\n",
    "| F   | T      |\n",
    "| T   | F      |\n",
    "\n"
   ]
  },
  {
   "cell_type": "code",
   "execution_count": 10,
   "id": "311d0c00",
   "metadata": {},
   "outputs": [
    {
     "data": {
      "text/plain": [
       "True"
      ]
     },
     "execution_count": 10,
     "metadata": {},
     "output_type": "execute_result"
    }
   ],
   "source": [
    "resultado = 4>5 or 5==5\n",
    "resultado"
   ]
  },
  {
   "cell_type": "code",
   "execution_count": 11,
   "id": "0e97d7f8",
   "metadata": {},
   "outputs": [
    {
     "data": {
      "text/plain": [
       "False"
      ]
     },
     "execution_count": 11,
     "metadata": {},
     "output_type": "execute_result"
    }
   ],
   "source": [
    "resultado = 4>5 and 5==5\n",
    "resultado"
   ]
  },
  {
   "cell_type": "code",
   "execution_count": 12,
   "id": "b815eef5",
   "metadata": {},
   "outputs": [
    {
     "data": {
      "text/plain": [
       "True"
      ]
     },
     "execution_count": 12,
     "metadata": {},
     "output_type": "execute_result"
    }
   ],
   "source": [
    "resultado = not(4>5 and 5==5)\n",
    "resultado"
   ]
  },
  {
   "cell_type": "markdown",
   "id": "532d8479",
   "metadata": {},
   "source": [
    "1. Verificar si un numero esta en el rango de 10 y 20 \n",
    "2. verificar si un usuario tiene acceso al charlys si tiene minimo 18 anos o tiene permiso especial \n",
    "3. verificar si un numero no es igual a cero \n",
    "4. verificar si un valor esta fuera del rango de 0 y 30"
   ]
  },
  {
   "cell_type": "code",
   "execution_count": null,
   "id": "56938e87",
   "metadata": {},
   "outputs": [],
   "source": [
    "#1\n",
    "numero = "
   ]
  },
  {
   "cell_type": "code",
   "execution_count": null,
   "id": "c5e30966",
   "metadata": {},
   "outputs": [],
   "source": [
    "#2"
   ]
  },
  {
   "cell_type": "code",
   "execution_count": null,
   "id": "f6dd5db6",
   "metadata": {},
   "outputs": [],
   "source": [
    "#3"
   ]
  },
  {
   "cell_type": "code",
   "execution_count": null,
   "id": "75506d7a",
   "metadata": {},
   "outputs": [],
   "source": [
    "#4"
   ]
  },
  {
   "cell_type": "markdown",
   "id": "988d981c",
   "metadata": {},
   "source": [
    "Hay veces que queremos tener una accion `default`, que queremos que suceda en caso de que la comparacion se `false`. Para esto podemos  usar una sentencia `else`. Piensalo como preguntarse a uno mismo: \"Si meto mi mano a la bolsa y resulta que encuentro un billete de $50, me compro unos nachos; y si no hay nada vere una pelicula con mi novio llorando de tristeza porque no es el otro\""
   ]
  },
  {
   "cell_type": "code",
   "execution_count": null,
   "id": "3129c75b",
   "metadata": {},
   "outputs": [
    {
     "name": "stdout",
     "output_type": "stream",
     "text": [
      "la condicion no se ha cumplido y por lo tanto yo me imprimo\n"
     ]
    }
   ],
   "source": [
    "var_1 = 4 \n",
    "var_2 = 5 \n",
    "\n",
    "if var_1 > var_2:\n",
    "    print(\"la condicion se cumplio\")\n",
    "\n",
    "else:\n",
    "    print(\"la condicion no se ha cumplido \" \\\n",
    "    \"y por lo tanto yo me imprimo\")    "
   ]
  },
  {
   "cell_type": "code",
   "execution_count": null,
   "id": "ca1a914a",
   "metadata": {},
   "outputs": [],
   "source": [
    " # encontrar el numero mas grande de dos numeros\n",
    "number_1 = int(input('introduce el numero 1'))\n",
    "number_2 = int(input('introduce el numero 2'))\n",
    "\n",
    "#elegir el numero mas grande \n",
    "if number_1 > number_2:\n",
    "    print (f'el numero {number_1} es mayor que el numero {number_2}')\n",
    "else:\n",
    "        print (f'el numero {number_2} es mayor que el numero {number_1}')\n"
   ]
  },
  {
   "cell_type": "code",
   "execution_count": null,
   "id": "b38cad7d",
   "metadata": {},
   "outputs": [],
   "source": [
    "number_1 = int(input('introduce el numero 1'))\n",
    "number_2 = int(input('introduce el numero 2'))\n",
    "\n",
    "#elegir el numero mas grande \n",
    "if number_1 > number_2:\n",
    "   numero_mayor = number_1\n",
    "else:\n",
    "        numero_mayor = number_2\n",
    "print (f'el numero mayor es: {numero_mayor}')"
   ]
  },
  {
   "cell_type": "markdown",
   "id": "e713da6b",
   "metadata": {},
   "source": [
    "si queremos que haya mas de dos opciones, podemos agregar opciones utilizando la setencia `elif`"
   ]
  },
  {
   "cell_type": "code",
   "execution_count": 15,
   "id": "60b6c06e",
   "metadata": {},
   "outputs": [
    {
     "name": "stdout",
     "output_type": "stream",
     "text": [
      "El 12 es igual 12\n"
     ]
    }
   ],
   "source": [
    "var_1 = 12\n",
    "var_2 = 12\n",
    "\n",
    "if var_1 > var_2:\n",
    "    print(f'El {var_1} es mayor {var_2}')\n",
    "elif var_2 > var_1: \n",
    "     print(f'El {var_2} es mayor {var_1}')\n",
    "else:\n",
    "     print(f'El {var_1} es igual {var_2}')"
   ]
  },
  {
   "cell_type": "markdown",
   "id": "61867ce4",
   "metadata": {},
   "source": [
    "#### 1. Comparaciones numéricas\n",
    "\n",
    "Vamos a imaginar que estamos analizando un conjunto de datos que contiene las ventas anuales en pesos de unos vendedores que trabajan en nuestra empresa. Obtenemos el total de ventas anuales en pesos y lo tenemos asignado a la variable ventas_anuales_totales. Escribe una estructura de control que nos diga de cuánto va a ser el bono de nuestro empleado.\n",
    "\n",
    "Si las ventas son mayores a `$`1,000,000 el bono será de 20% del sueldo; si son entre `$`700,000 y `$`1,000,000 el bono será de 15% del sueldo; entre `$`400,000 y `$`700,000 el bono será de 10% del sueldo; entre `$`100,00 y 400,000 el bono será de 5% del sueldo; y debajo de `$`100,000 el bono será del 1% del sueldo.\n",
    "\n",
    "Escribe tu estructura de control y, por ahora (más adelante tendremos más herramientas para hacer esto más interesante) imprime una string que diga de cuánto va a ser el bono.\n",
    "\n",
    "> Reto opcional: Agrega una variable sueldo que sea el sueldo de tu empleado y agrégale el porcentaje de bono a esa variable dependiendo de la condición que se cumpla. Después hasta el final imprime una string interpolada que diga algo como \"Felicidades, tu sueldo es x; tu bono es de x; y el total de sueldo con el bono incluido es de x\". ¡Para que esto funcione también debes de agregar una variable donde guardes la cantidad del bono!"
   ]
  },
  {
   "cell_type": "code",
   "execution_count": 1,
   "id": "769f5651",
   "metadata": {},
   "outputs": [
    {
     "name": "stdout",
     "output_type": "stream",
     "text": [
      "Felicidades, tu sueldo es $30,000.00; tu bono es de $4,500.00; y el total de sueldo con el bono incluido es de $34,500.00\n"
     ]
    }
   ],
   "source": [
    "# Variables iniciales\n",
    "ventas_anuales_totales = 850000  # Puedes cambiar esta cantidad para probar otros casos\n",
    "sueldo = 30000  # Sueldo base del empleado\n",
    "bono = 0  # Inicializamos el bono\n",
    "\n",
    "# Estructura de control para determinar el porcentaje de bono\n",
    "if ventas_anuales_totales > 1000000:\n",
    "    bono = sueldo * 0.20\n",
    "elif ventas_anuales_totales >= 700000:\n",
    "    bono = sueldo * 0.15\n",
    "elif ventas_anuales_totales >= 400000:\n",
    "    bono = sueldo * 0.10\n",
    "elif ventas_anuales_totales >= 100000:\n",
    "    bono = sueldo * 0.05\n",
    "else:\n",
    "    bono = sueldo * 0.01\n",
    "\n",
    "# Sueldo total con bono\n",
    "sueldo_total = sueldo + bono\n",
    "\n",
    "# Resultado final\n",
    "print(f\"Felicidades, tu sueldo es ${sueldo:,.2f}; tu bono es de ${bono:,.2f}; y el total de sueldo con el bono incluido es de ${sueldo_total:,.2f}\")\n"
   ]
  },
  {
   "cell_type": "code",
   "execution_count": 2,
   "id": "3fe9ded6",
   "metadata": {},
   "outputs": [
    {
     "name": "stdout",
     "output_type": "stream",
     "text": [
      "el bono es 18000.0\n"
     ]
    }
   ],
   "source": [
    "ventas_anuales_totales = float(input('introduce las ventas'))\n",
    "if ventas_anuales_totales > 1000000:\n",
    "    bono = ventas_anuales_totales * 0.20 \n",
    "elif ventas_anuales_totales >= 70000 and ventas_anuales_totales <= 1000000:\n",
    "    bono = ventas_anuales_totales * 0.15 \n",
    "elif ventas_anuales_totales >= 400000 and  ventas_anuales_totales <= 70000:\n",
    "    bono = ventas_anuales_totales * 0.10 \n",
    "elif ventas_anuales_totales >= 100000 and ventas_anuales_totales <= 40000:\n",
    "    bono = ventas_anuales_totales * 0.05\n",
    "else:\n",
    "    bono = ventas_anuales_totales * 0.01\n",
    "print (f'el bono es {bono}')"
   ]
  }
 ],
 "metadata": {
  "kernelspec": {
   "display_name": "Python 3",
   "language": "python",
   "name": "python3"
  },
  "language_info": {
   "codemirror_mode": {
    "name": "ipython",
    "version": 3
   },
   "file_extension": ".py",
   "mimetype": "text/x-python",
   "name": "python",
   "nbconvert_exporter": "python",
   "pygments_lexer": "ipython3",
   "version": "3.12.10"
  }
 },
 "nbformat": 4,
 "nbformat_minor": 5
}

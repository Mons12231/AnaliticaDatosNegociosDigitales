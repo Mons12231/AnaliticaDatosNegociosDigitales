{
 "cells": [
  {
   "cell_type": "markdown",
   "id": "6206e685",
   "metadata": {},
   "source": [
    "## Operaciones numericas \n",
    "\n",
    "### Objetivos \n",
    "-Mostrar como utilizar los operadores aritmeticos \n",
    "\n",
    "### Desarrollo "
   ]
  },
  {
   "cell_type": "markdown",
   "id": "50120aae",
   "metadata": {},
   "source": [
    "Primero vamos asignar unas varibles "
   ]
  },
  {
   "cell_type": "code",
   "execution_count": 1,
   "id": "0a93abf3",
   "metadata": {},
   "outputs": [],
   "source": [
    "var_1 = 4\n",
    "var_2 = 53\n",
    "var_3 = 23\n",
    "var_4 = 89"
   ]
  },
  {
   "cell_type": "code",
   "execution_count": 6,
   "id": "1bf7198e",
   "metadata": {},
   "outputs": [
    {
     "name": "stdout",
     "output_type": "stream",
     "text": [
      "4 53 23 89\n",
      "4-53-23-89\n",
      "El valor de la variable var_1:4\n",
      "El valor de la variable var_1: 4\n"
     ]
    }
   ],
   "source": [
    "print(var_1,var_2,var_3,var_4)\n",
    "print(var_1,var_2,var_3,var_4, sep='-')\n",
    "\n",
    "print('El valor de la variable var_1:' + str(var_1))\n",
    "print('El valor de la variable var_1:' ,var_1)"
   ]
  },
  {
   "cell_type": "markdown",
   "id": "66fcc209",
   "metadata": {},
   "source": [
    "### Operaciones numericas\n",
    "\n",
    "---\n",
    "**Operadores aritmeticos**\n",
    "\n",
    "| Operador | Nombre                  | Descripción                                 | Ejemplo        | Resultado |\n",
    "|----------|-------------------------|---------------------------------------------|----------------|-----------|\n",
    "| `+`      | Suma                    | Suma de dos operandos                        | `5 + 3`        | `8`       |\n",
    "| `-`      | Resta                   | Resta del segundo operando al primero        | `5 - 3`        | `2`       |\n",
    "| `*`      | Multiplicación          | Producto de dos operandos                    | `5 * 3`        | `15`      |\n",
    "| `/`      | División                | División del primero entre el segundo       | `5 / 2`        | `2.5`     |\n",
    "| `//`     | División entera         | División y redondeo hacia abajo             | `5 // 2`       | `2`       |\n",
    "| `%`      | Módulo (residuo)        | Residuo de la división                      | `5 % 2`        | `1`       |\n",
    "| `**`     | Exponente               | Potencia del primer operando al segundo     | `2 ** 3`       | `8`       |\n",
    "\n",
    "\n",
    "---"
   ]
  },
  {
   "cell_type": "code",
   "execution_count": 7,
   "id": "b412a781",
   "metadata": {},
   "outputs": [
    {
     "data": {
      "text/plain": [
       "57"
      ]
     },
     "execution_count": 7,
     "metadata": {},
     "output_type": "execute_result"
    }
   ],
   "source": [
    "var_1 + var_2"
   ]
  },
  {
   "cell_type": "code",
   "execution_count": 8,
   "id": "a4620fd2",
   "metadata": {},
   "outputs": [
    {
     "data": {
      "text/plain": [
       "-36"
      ]
     },
     "execution_count": 8,
     "metadata": {},
     "output_type": "execute_result"
    }
   ],
   "source": [
    "var_2 - var_4"
   ]
  },
  {
   "cell_type": "code",
   "execution_count": 9,
   "id": "9a2ed624",
   "metadata": {},
   "outputs": [
    {
     "data": {
      "text/plain": [
       "92"
      ]
     },
     "execution_count": 9,
     "metadata": {},
     "output_type": "execute_result"
    }
   ],
   "source": [
    "var_3 * var_1"
   ]
  },
  {
   "cell_type": "code",
   "execution_count": 10,
   "id": "deb452e0",
   "metadata": {},
   "outputs": [
    {
     "data": {
      "text/plain": [
       "1.679245283018868"
      ]
     },
     "execution_count": 10,
     "metadata": {},
     "output_type": "execute_result"
    }
   ],
   "source": [
    "var_4 / var_2"
   ]
  },
  {
   "cell_type": "code",
   "execution_count": 11,
   "id": "dda384f1",
   "metadata": {},
   "outputs": [
    {
     "data": {
      "text/plain": [
       "1"
      ]
     },
     "execution_count": 11,
     "metadata": {},
     "output_type": "execute_result"
    }
   ],
   "source": [
    "var_4 // var_2"
   ]
  },
  {
   "cell_type": "code",
   "execution_count": 12,
   "id": "eb60e69e",
   "metadata": {},
   "outputs": [
    {
     "data": {
      "text/plain": [
       "7890481"
      ]
     },
     "execution_count": 12,
     "metadata": {},
     "output_type": "execute_result"
    }
   ],
   "source": [
    "var_2 ** var_1"
   ]
  },
  {
   "cell_type": "code",
   "execution_count": 13,
   "id": "25eea35f",
   "metadata": {},
   "outputs": [
    {
     "data": {
      "text/plain": [
       "0"
      ]
     },
     "execution_count": 13,
     "metadata": {},
     "output_type": "execute_result"
    }
   ],
   "source": [
    "var_1 = 10\n",
    "var_2 = 2 \n",
    "\n",
    "var_1 % var_2\n"
   ]
  },
  {
   "cell_type": "code",
   "execution_count": 15,
   "id": "6551ad9a",
   "metadata": {},
   "outputs": [
    {
     "name": "stdout",
     "output_type": "stream",
     "text": [
      "12\n",
      "20\n",
      "100\n"
     ]
    }
   ],
   "source": [
    "print (var_1 + var_2)\n",
    "print (var_1 * var_2)\n",
    "print (var_1 ** var_2)"
   ]
  },
  {
   "cell_type": "markdown",
   "id": "0ed321cc",
   "metadata": {},
   "source": [
    "Tambien se puede asignar los resultados de las operaciones a otras varibles "
   ]
  },
  {
   "cell_type": "code",
   "execution_count": 16,
   "id": "3cbf0623",
   "metadata": {},
   "outputs": [
    {
     "data": {
      "text/plain": [
       "33"
      ]
     },
     "execution_count": 16,
     "metadata": {},
     "output_type": "execute_result"
    }
   ],
   "source": [
    "resultado = var_1 + var_3\n",
    "resultado "
   ]
  }
 ],
 "metadata": {
  "kernelspec": {
   "display_name": "Python 3",
   "language": "python",
   "name": "python3"
  },
  "language_info": {
   "codemirror_mode": {
    "name": "ipython",
    "version": 3
   },
   "file_extension": ".py",
   "mimetype": "text/x-python",
   "name": "python",
   "nbconvert_exporter": "python",
   "pygments_lexer": "ipython3",
   "version": "3.12.10"
  }
 },
 "nbformat": 4,
 "nbformat_minor": 5
}

{
 "cells": [
  {
   "cell_type": "markdown",
   "id": "638b4f46",
   "metadata": {},
   "source": [
    "## Operaciones con listas"
   ]
  },
  {
   "cell_type": "markdown",
   "id": "8f6e5a1a",
   "metadata": {},
   "source": [
    "## Copiar una lista a otra"
   ]
  },
  {
   "cell_type": "code",
   "execution_count": 1,
   "id": "a9fc4daa",
   "metadata": {},
   "outputs": [
    {
     "name": "stdout",
     "output_type": "stream",
     "text": [
      "lista 1: [1]\n",
      " lista 2:[1]\n"
     ]
    }
   ],
   "source": [
    "lista_1 = [1]\n",
    "lista_2 = lista_1\n",
    "\n",
    "print(f'lista 1: {lista_1}\\n lista 2:{lista_2}')"
   ]
  },
  {
   "cell_type": "code",
   "execution_count": 2,
   "id": "9566b39b",
   "metadata": {},
   "outputs": [],
   "source": [
    "lista_2.append(10)\n"
   ]
  },
  {
   "cell_type": "code",
   "execution_count": 3,
   "id": "ae3828bc",
   "metadata": {},
   "outputs": [
    {
     "name": "stdout",
     "output_type": "stream",
     "text": [
      "[1, 10]\n"
     ]
    }
   ],
   "source": [
    "print(lista_2)"
   ]
  },
  {
   "cell_type": "markdown",
   "id": "6ac7584e",
   "metadata": {},
   "source": [
    "## Slicing o rebanadas "
   ]
  },
  {
   "cell_type": "code",
   "execution_count": 7,
   "id": "5c1778b4",
   "metadata": {},
   "outputs": [
    {
     "data": {
      "text/plain": [
       "[3, 4, 5, 6, 7, 8]"
      ]
     },
     "execution_count": 7,
     "metadata": {},
     "output_type": "execute_result"
    }
   ],
   "source": [
    "list_1 = [ 3,4,5,6,7,8]\n",
    "list_1[:]\n"
   ]
  },
  {
   "cell_type": "code",
   "execution_count": 8,
   "id": "76d22086",
   "metadata": {},
   "outputs": [
    {
     "data": {
      "text/plain": [
       "[3, 4, 5, 6, 7, 8, 11]"
      ]
     },
     "execution_count": 8,
     "metadata": {},
     "output_type": "execute_result"
    }
   ],
   "source": [
    "# forma correcta \n",
    "list_2 = list_1[:]\n",
    "list_2.append(11)\n",
    "list_2"
   ]
  },
  {
   "cell_type": "code",
   "execution_count": 9,
   "id": "d16dcfb0",
   "metadata": {},
   "outputs": [
    {
     "name": "stdout",
     "output_type": "stream",
     "text": [
      "[4, 6, 7, 9, 12]\n"
     ]
    }
   ],
   "source": [
    "x = [4,6,7,9,12]\n",
    "y = []\n",
    "y = x.copy()\n",
    "\n",
    "print (y)\n"
   ]
  },
  {
   "cell_type": "markdown",
   "id": "5a33f95b",
   "metadata": {},
   "source": [
    "### Slicing o Rebanadas - Indice Negativos \n",
    "Observa el fracmento de codigo a continuacion:\n",
    "`my_list[start:end]`\n",
    "\n",
    "para conformar:\n",
    "1. **start** es el indice del primer elemento incluido en la rebanada \n",
    "2. **end** es el indice del primer elemento no incluido en la rebanada "
   ]
  },
  {
   "cell_type": "code",
   "execution_count": 11,
   "id": "36a3199c",
   "metadata": {},
   "outputs": [
    {
     "data": {
      "text/plain": [
       "[10, 8]"
      ]
     },
     "execution_count": 11,
     "metadata": {},
     "output_type": "execute_result"
    }
   ],
   "source": [
    "lista = [10,8,6,4,2]\n",
    "lista[0:2]"
   ]
  },
  {
   "cell_type": "code",
   "execution_count": 12,
   "id": "be238ee4",
   "metadata": {},
   "outputs": [
    {
     "name": "stdout",
     "output_type": "stream",
     "text": [
      "la lista original es: [10, 8, 6, 4, 2]\n",
      " la nueva lista es:[10, 8, 6]\n"
     ]
    }
   ],
   "source": [
    "lista2 = lista[0:3]\n",
    "print(f'la lista original es: {lista}\\n la nueva lista es:{lista2}')"
   ]
  },
  {
   "cell_type": "code",
   "execution_count": 13,
   "id": "5a260e22",
   "metadata": {},
   "outputs": [
    {
     "data": {
      "text/plain": [
       "[8, 6, 4, 2]"
      ]
     },
     "execution_count": 13,
     "metadata": {},
     "output_type": "execute_result"
    }
   ],
   "source": [
    "lista[1:]"
   ]
  },
  {
   "cell_type": "code",
   "execution_count": 14,
   "id": "d814f647",
   "metadata": {},
   "outputs": [
    {
     "data": {
      "text/plain": [
       "[]"
      ]
     },
     "execution_count": 14,
     "metadata": {},
     "output_type": "execute_result"
    }
   ],
   "source": [
    "lista[4:-1]"
   ]
  },
  {
   "cell_type": "code",
   "execution_count": 1,
   "id": "136993c9",
   "metadata": {},
   "outputs": [
    {
     "data": {
      "text/plain": [
       "[10, 4, 2]"
      ]
     },
     "execution_count": 1,
     "metadata": {},
     "output_type": "execute_result"
    }
   ],
   "source": [
    "# dada la lista [10,8,6,4,2] eliminar los numeros 8 y 6 \n",
    "\n",
    "lista_3 = [10,8,6,4,2]\n",
    "del lista_3[1:3]\n",
    "lista_3"
   ]
  },
  {
   "cell_type": "markdown",
   "id": "e65b8129",
   "metadata": {},
   "source": [
    "`pop`` remueve el ultimo elemento de la lista si se llama sin argumentos "
   ]
  },
  {
   "cell_type": "code",
   "execution_count": 2,
   "id": "369299d8",
   "metadata": {},
   "outputs": [
    {
     "data": {
      "text/plain": [
       "[10, 4, 2]"
      ]
     },
     "execution_count": 2,
     "metadata": {},
     "output_type": "execute_result"
    }
   ],
   "source": [
    "lista_3"
   ]
  },
  {
   "cell_type": "code",
   "execution_count": 3,
   "id": "58dffa48",
   "metadata": {},
   "outputs": [
    {
     "data": {
      "text/plain": [
       "[10, 4]"
      ]
     },
     "execution_count": 3,
     "metadata": {},
     "output_type": "execute_result"
    }
   ],
   "source": [
    "lista_3.pop()\n",
    "lista_3"
   ]
  },
  {
   "cell_type": "code",
   "execution_count": 8,
   "id": "ffa055b1",
   "metadata": {},
   "outputs": [],
   "source": [
    "lista_3 = []\n",
    "\n",
    "lista_3.append(7)\n",
    "lista_3.append(5)\n",
    "lista_3.append(9)\n",
    "lista_3.append(11)\n",
    "lista_3.append(5)"
   ]
  },
  {
   "cell_type": "code",
   "execution_count": 9,
   "id": "0d78d4d7",
   "metadata": {},
   "outputs": [
    {
     "data": {
      "text/plain": [
       "[7, 5, 9, 11, 5]"
      ]
     },
     "execution_count": 9,
     "metadata": {},
     "output_type": "execute_result"
    }
   ],
   "source": [
    "lista_3"
   ]
  },
  {
   "cell_type": "code",
   "execution_count": 10,
   "id": "4eb2eb00",
   "metadata": {},
   "outputs": [
    {
     "data": {
      "text/plain": [
       "[7, 9, 11, 5]"
      ]
     },
     "execution_count": 10,
     "metadata": {},
     "output_type": "execute_result"
    }
   ],
   "source": [
    "lista_3.pop(1)\n",
    "lista_3"
   ]
  },
  {
   "cell_type": "code",
   "execution_count": 12,
   "id": "8b36a48f",
   "metadata": {},
   "outputs": [
    {
     "name": "stdout",
     "output_type": "stream",
     "text": [
      "['a', 12, True]\n",
      "<class 'list'>\n"
     ]
    }
   ],
   "source": [
    "list_example = [\"a\", 12, True ]\n",
    "print(list_example)\n",
    "print(type(list_example))"
   ]
  },
  {
   "cell_type": "code",
   "execution_count": 13,
   "id": "fe6716e0",
   "metadata": {},
   "outputs": [
    {
     "name": "stdout",
     "output_type": "stream",
     "text": [
      "[['hallway', 100], ['kitchen', 85]]\n",
      "<class 'list'>\n"
     ]
    }
   ],
   "source": [
    "#Lista de listas \n",
    "list_house = [['hallway', 100],['kitchen', 85]]\n",
    "print(list_house)\n",
    "print(type(list_house))"
   ]
  },
  {
   "cell_type": "code",
   "execution_count": null,
   "id": "043d0ff6",
   "metadata": {},
   "outputs": [
    {
     "data": {
      "text/plain": [
       "100"
      ]
     },
     "execution_count": 14,
     "metadata": {},
     "output_type": "execute_result"
    }
   ],
   "source": [
    "# este tiene acceso a la lista en la posicion 0 y su elemento en la posicion 1 \n",
    "list_house[0][1]"
   ]
  },
  {
   "cell_type": "code",
   "execution_count": 18,
   "id": "033b21e0",
   "metadata": {},
   "outputs": [
    {
     "name": "stdout",
     "output_type": "stream",
     "text": [
      "['heydy', 22, 'ines', 54, 'henry', 33, 'oscar', 38]\n"
     ]
    }
   ],
   "source": [
    "list_family = ['heydy', 22,'ines', 54, 'henry', 33, 'oscar', 38]\n",
    "print(list_family)"
   ]
  },
  {
   "cell_type": "code",
   "execution_count": 19,
   "id": "89fc3a2f",
   "metadata": {},
   "outputs": [
    {
     "name": "stdout",
     "output_type": "stream",
     "text": [
      "ines\n",
      "ines\n"
     ]
    }
   ],
   "source": [
    "# indexacion \n",
    "print(list_family[2])\n",
    "\n",
    "#inexacion negativa \n",
    "print(list_family[-6])"
   ]
  },
  {
   "cell_type": "code",
   "execution_count": 20,
   "id": "c41a2573",
   "metadata": {},
   "outputs": [
    {
     "name": "stdout",
     "output_type": "stream",
     "text": [
      "[54, 'henry']\n",
      "['heydy', 22, 'ines', 54, 'henry']\n",
      "[33, 'oscar', 38]\n"
     ]
    }
   ],
   "source": [
    "# slicing[ start:end ]\n",
    "#          inclusive:exclusive\n",
    "\n",
    "print(list_family[3:5]) #no toma el utlimo digito \n",
    "print(list_family[:5])# desde el inicio hasta la posicion 4\n",
    "print(list_family[5:]) #desde la posicion 5 hasta el final "
   ]
  },
  {
   "cell_type": "markdown",
   "id": "deb1e6ae",
   "metadata": {},
   "source": [
    "## Manipulando listas"
   ]
  },
  {
   "cell_type": "code",
   "execution_count": 23,
   "id": "85b1670c",
   "metadata": {},
   "outputs": [
    {
     "name": "stdout",
     "output_type": "stream",
     "text": [
      "['Mayumy', 24, 'ines', 54, 'henry', 33, 'oscar', 37]\n",
      "['Mayumy', 24, 'ines', 54, 'henry', 33, 'oscar', 37]\n"
     ]
    }
   ],
   "source": [
    "list_family[-1] = 37\n",
    "print(list_family)\n",
    "\n",
    "list_family [:2] = ['Mayumy', 24]\n",
    "print(list_family)"
   ]
  },
  {
   "cell_type": "code",
   "execution_count": 32,
   "id": "ddf7d7f4",
   "metadata": {},
   "outputs": [
    {
     "name": "stdout",
     "output_type": "stream",
     "text": [
      "['Mayumy', 24, 'ines', 54, 'henry', 33, 'oscar', 37, 'achchena', 12]\n"
     ]
    }
   ],
   "source": [
    "# agregar y remover elementos de la lista \n",
    "\n",
    "# agregar\n",
    "fam_ext = list_family + ['achchena', 12]\n",
    "print(fam_ext)\n",
    "\n"
   ]
  },
  {
   "cell_type": "code",
   "execution_count": 33,
   "id": "b4755109",
   "metadata": {},
   "outputs": [
    {
     "name": "stdout",
     "output_type": "stream",
     "text": [
      "['Mayumy', 24, 'ines', 'henry', 33, 'oscar', 37, 'achchena', 12]\n"
     ]
    }
   ],
   "source": [
    "# eliminar\n",
    "del (fam_ext[3])\n",
    "#fam_ext.pop(3)\n",
    "#fam_ext.remove(54)\n",
    "print(fam_ext)"
   ]
  },
  {
   "cell_type": "code",
   "execution_count": 49,
   "id": "d5fbad52",
   "metadata": {},
   "outputs": [
    {
     "name": "stdout",
     "output_type": "stream",
     "text": [
      "['hallway', 11.25, 'kitchen', 18.0, 'chill zone', 20.0, 'bedroom', 10.75, 'bathroom', 10.5, 'poolhouse', 24.5, 'garage', 14.45]\n",
      "['poolhouse', 24.5]\n",
      "['poolhouse', 24.5]\n",
      "['hallway', 11.25, 'kitchen', 18.0, 'chill zone', 20.0, 'bedroom', 10.75, 'bathroom', 10.5, 'garage', 14.45]\n"
     ]
    }
   ],
   "source": [
    "# ejercicio - eliminar 'poolhouse' y 24.5\n",
    "areas = [ \"hallway\", 11.25, 'kitchen', 18.0,\n",
    "         \"chill zone\", 20.0, 'bedroom', 10.75,\n",
    "         \"bathroom\",10.50,'poolhouse', 24.5,\n",
    "         'garage', 14.45\n",
    "]\n",
    "\n",
    "print(areas)\n",
    "print(areas[-4:-2])\n",
    "print(areas[10:12])\n",
    "del(areas[-4:-2])\n",
    "print(areas)"
   ]
  },
  {
   "cell_type": "markdown",
   "id": "af3bbdea",
   "metadata": {},
   "source": [
    "# Funciones y Paquetes"
   ]
  },
  {
   "cell_type": "markdown",
   "id": "2c6b3051",
   "metadata": {},
   "source": [
    "## **Funcion**\n",
    "Es una pieza de codigo reutilizable, destinada a resolver una tarea en particular "
   ]
  },
  {
   "cell_type": "code",
   "execution_count": 50,
   "id": "7c1bf910",
   "metadata": {},
   "outputs": [
    {
     "name": "stdout",
     "output_type": "stream",
     "text": [
      "[22, 54, 33, 38, 36]\n",
      "el tamano de la lista es: 5\n",
      "el valor maximo de la lista es: 54\n"
     ]
    }
   ],
   "source": [
    "lista_fam = [22,54,33,38,36]\n",
    "print(lista_fam)\n",
    "print(f'el tamano de la lista es: {len(lista_fam)}')\n",
    "print(f'el valor maximo de la lista es: {max(lista_fam)}')"
   ]
  },
  {
   "cell_type": "code",
   "execution_count": 51,
   "id": "5f50d4bd",
   "metadata": {},
   "outputs": [
    {
     "data": {
      "text/plain": [
       "1.69"
      ]
     },
     "execution_count": 51,
     "metadata": {},
     "output_type": "execute_result"
    }
   ],
   "source": [
    "round(1.689,2)"
   ]
  },
  {
   "cell_type": "code",
   "execution_count": 52,
   "id": "25995f94",
   "metadata": {},
   "outputs": [
    {
     "name": "stdout",
     "output_type": "stream",
     "text": [
      "Help on built-in function round in module builtins:\n",
      "\n",
      "round(number, ndigits=None)\n",
      "    Round a number to a given precision in decimal digits.\n",
      "\n",
      "    The return value is an integer if ndigits is omitted or None.  Otherwise\n",
      "    the return value has the same type as the number.  ndigits may be negative.\n",
      "\n"
     ]
    }
   ],
   "source": [
    "help(round)"
   ]
  },
  {
   "cell_type": "code",
   "execution_count": 53,
   "id": "38011a09",
   "metadata": {},
   "outputs": [
    {
     "name": "stdout",
     "output_type": "stream",
     "text": [
      "[18.0, 20.0, 51.25]\n",
      "[18.0, 20.0, 51.25]\n",
      "[51.25, 20.0, 18.0]\n"
     ]
    }
   ],
   "source": [
    "first = [51.25,18.0,20.0]\n",
    "full_sorted = sorted(first) # ordenar de forma ascendente\n",
    "full_sorted_asc = sorted(first, reverse=False)# ascendente \n",
    "full_sorted_desc = sorted(first, reverse=True)# descendente \n",
    "\n",
    "print(full_sorted)\n",
    "print(full_sorted_asc)\n",
    "print(full_sorted_desc)"
   ]
  },
  {
   "cell_type": "markdown",
   "id": "5bd91e81",
   "metadata": {},
   "source": [
    "### Metodos \n",
    "En python todo es objeto. Y cada objeto tiene metodos especificos asociados \n",
    "- Objetos con diferentes tipos pueden tener metodos con el mismo nombre \n"
   ]
  },
  {
   "cell_type": "code",
   "execution_count": 54,
   "id": "f0e78213",
   "metadata": {},
   "outputs": [
    {
     "name": "stdout",
     "output_type": "stream",
     "text": [
      "indice: 4\n",
      "contar: 2\n"
     ]
    }
   ],
   "source": [
    "lista_fam = ['heydy', 22,'ines',54,'henry', 33, 'oscar',54 ]\n",
    "print(f\"indice: {lista_fam.index('henry')}\") # obtiene el indice de la lista\n",
    "print(f'contar: {lista_fam.count(54)}') # contar cuantas veces aparece algo "
   ]
  },
  {
   "cell_type": "code",
   "execution_count": 56,
   "id": "ca0a6955",
   "metadata": {},
   "outputs": [
    {
     "name": "stdout",
     "output_type": "stream",
     "text": [
      "['heydy', 22, 'ines', 54, 33, 'oscar', 54]\n"
     ]
    }
   ],
   "source": [
    "del(lista_fam[lista_fam.index('henry')])\n",
    "print(lista_fam)"
   ]
  },
  {
   "cell_type": "code",
   "execution_count": 57,
   "id": "572df7e1",
   "metadata": {},
   "outputs": [
    {
     "name": "stdout",
     "output_type": "stream",
     "text": [
      "Mayumi\n"
     ]
    }
   ],
   "source": [
    "name = \"mayumi\"\n",
    "print(name.capitalize())\n"
   ]
  },
  {
   "cell_type": "code",
   "execution_count": 59,
   "id": "b9dfdf9e",
   "metadata": {},
   "outputs": [
    {
     "name": "stdout",
     "output_type": "stream",
     "text": [
      "Susel\n"
     ]
    }
   ],
   "source": [
    "lista_entornos = ['susel','brandon', 'alejandro','gabriel']\n",
    "lista_entornos = lista_entornos[0].capitalize()\n",
    "print(lista_entornos)"
   ]
  },
  {
   "cell_type": "code",
   "execution_count": 60,
   "id": "39d009c7",
   "metadata": {},
   "outputs": [
    {
     "name": "stdout",
     "output_type": "stream",
     "text": [
      "ma*umi\n"
     ]
    }
   ],
   "source": [
    "print(name.replace('y','*'))"
   ]
  },
  {
   "cell_type": "code",
   "execution_count": 61,
   "id": "98dd26a7",
   "metadata": {},
   "outputs": [
    {
     "data": {
      "text/plain": [
       "'MAYUMI'"
      ]
     },
     "execution_count": 61,
     "metadata": {},
     "output_type": "execute_result"
    }
   ],
   "source": [
    "name.upper()"
   ]
  },
  {
   "cell_type": "code",
   "execution_count": null,
   "id": "32cbaccd",
   "metadata": {},
   "outputs": [],
   "source": []
  }
 ],
 "metadata": {
  "kernelspec": {
   "display_name": "Python 3",
   "language": "python",
   "name": "python3"
  },
  "language_info": {
   "codemirror_mode": {
    "name": "ipython",
    "version": 3
   },
   "file_extension": ".py",
   "mimetype": "text/x-python",
   "name": "python",
   "nbconvert_exporter": "python",
   "pygments_lexer": "ipython3",
   "version": "3.12.10"
  }
 },
 "nbformat": 4,
 "nbformat_minor": 5
}

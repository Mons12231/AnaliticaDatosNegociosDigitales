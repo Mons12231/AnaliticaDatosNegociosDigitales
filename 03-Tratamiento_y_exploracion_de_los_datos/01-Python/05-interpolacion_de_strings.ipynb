{
 "cells": [
  {
   "cell_type": "markdown",
   "id": "ed4da845",
   "metadata": {},
   "source": [
    "## Interpolacion \n",
    "\n",
    "### Objetivos:\n",
    "     - Aprender a imprimir string\n",
    "     - Aprender a interpolar variables dentro de strings \n",
    "\n",
    "### Desarrollo: \n",
    "Podemos haceer anotaciones en outpust de nuestro codigo de esta manera:"
   ]
  },
  {
   "cell_type": "code",
   "execution_count": 1,
   "id": "e42e9e34",
   "metadata": {},
   "outputs": [
    {
     "name": "stdout",
     "output_type": "stream",
     "text": [
      "Suma de var_1 y var_2\n",
      "38.7\n"
     ]
    }
   ],
   "source": [
    "var_1 = 15.3\n",
    "var_2 = 23.4 \n",
    "\n",
    "print(\"Suma de var_1 y var_2\")\n",
    "print(var_1 + var_2)"
   ]
  },
  {
   "cell_type": "markdown",
   "id": "4dd0c6d6",
   "metadata": {},
   "source": [
    "Pero aveces resulta necesario o deseable interpolar el valaor de la variable dentro de dicho string. Para esto utilizamos las llamadas `f-strings`. El formato de una `f-strings` es el siguiente :\n",
    "\n",
    "`f\"Esto es texto{esto_es_una_varible} esto es mas texto\"`\n",
    "\n",
    "Escribiendo una `f` antes de las comillas le indicamos a python que lo que pongas dentro de las llaves (`{}`) sera codigo de python. En este caso, una variable asigmada previamente. \n",
    "\n",
    "Ahora podemos hacer lo siguiente :"
   ]
  },
  {
   "cell_type": "code",
   "execution_count": 4,
   "id": "0128b516",
   "metadata": {},
   "outputs": [
    {
     "name": "stdout",
     "output_type": "stream",
     "text": [
      "La suma  de 43, + 24.3 = 67.3 \n"
     ]
    }
   ],
   "source": [
    "var_3 = 43\n",
    "var_4 = 24.3\n",
    "\n",
    "suma = var_3 + var_4\n",
    "print (f'La suma  de {var_3}, + {var_4} = {suma} ')\n"
   ]
  },
  {
   "cell_type": "code",
   "execution_count": null,
   "id": "dece461f",
   "metadata": {},
   "outputs": [
    {
     "name": "stdout",
     "output_type": "stream",
     "text": [
      "El nombre del progrma es:elcharronegro y la suma de los valores 9.6 + 5.0 es : 14.6\n"
     ]
    }
   ],
   "source": [
    "nombre_programa = input('Introduce el nombre del programa')\n",
    "var_3 = float(input('introduce el primer valor'))\n",
    "var_4 = float(input('introduce el primer valor'))\n",
    "\n",
    "suma = var_3 + var_4\n",
    "\n",
    "print(f'El nombre del programa es:{nombre_programa} y la suma de los valores {var_3} + {var_4} es : {suma}')"
   ]
  },
  {
   "cell_type": "code",
   "execution_count": 2,
   "id": "6b850484",
   "metadata": {},
   "outputs": [],
   "source": [
    "def sumar(numero_1, numero_2):\n",
    "    return numero_1 + numero_2"
   ]
  },
  {
   "cell_type": "code",
   "execution_count": 3,
   "id": "b05c108f",
   "metadata": {},
   "outputs": [],
   "source": [
    "def solicitarValor():\n",
    "    return float(input('introduce el primer valor'))"
   ]
  },
  {
   "cell_type": "code",
   "execution_count": 4,
   "id": "483d7ce2",
   "metadata": {},
   "outputs": [
    {
     "name": "stdout",
     "output_type": "stream",
     "text": [
      "11.0\n"
     ]
    }
   ],
   "source": [
    "var_3 = solicitarValor()\n",
    "var_4 = solicitarValor()\n",
    "\n",
    "sumar = sumar(var_3,var_4)\n",
    "\n",
    "print(sumar)"
   ]
  },
  {
   "cell_type": "code",
   "execution_count": 5,
   "id": "7d5b56ba",
   "metadata": {},
   "outputs": [],
   "source": [
    "xx = 10"
   ]
  },
  {
   "cell_type": "code",
   "execution_count": 6,
   "id": "6ae70914",
   "metadata": {},
   "outputs": [
    {
     "name": "stdout",
     "output_type": "stream",
     "text": [
      "10\n"
     ]
    }
   ],
   "source": [
    "print(xx)"
   ]
  }
 ],
 "metadata": {
  "kernelspec": {
   "display_name": "Python 3",
   "language": "python",
   "name": "python3"
  },
  "language_info": {
   "codemirror_mode": {
    "name": "ipython",
    "version": 3
   },
   "file_extension": ".py",
   "mimetype": "text/x-python",
   "name": "python",
   "nbconvert_exporter": "python",
   "pygments_lexer": "ipython3",
   "version": "3.12.10"
  }
 },
 "nbformat": 4,
 "nbformat_minor": 5
}

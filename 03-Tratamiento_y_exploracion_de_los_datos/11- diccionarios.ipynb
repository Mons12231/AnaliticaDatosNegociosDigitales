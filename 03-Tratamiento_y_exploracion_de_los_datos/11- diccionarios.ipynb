{
 "cells": [
  {
   "cell_type": "markdown",
   "id": "aa1b1783",
   "metadata": {},
   "source": [
    "# Crear y accesar a los diccionarios "
   ]
  },
  {
   "cell_type": "markdown",
   "id": "f87bc3ca",
   "metadata": {},
   "source": [
    "## objetivos \n",
    "- aprender a crear diccionarios con pares llaves-valor \n",
    "- aprender a accesar a los valores guardados en el diccionario\n",
    "\n",
    "---\n"
   ]
  },
  {
   "cell_type": "markdown",
   "id": "51d13adb",
   "metadata": {},
   "source": [
    "## Desarrollo \n",
    "\n",
    "Los diccionarios se definen usando (`{}`)"
   ]
  },
  {
   "cell_type": "code",
   "execution_count": 1,
   "id": "0b3e27db",
   "metadata": {},
   "outputs": [],
   "source": [
    "diccionario_1 = {}"
   ]
  },
  {
   "cell_type": "markdown",
   "id": "459e003c",
   "metadata": {},
   "source": [
    "diccionario_1 ya es un diccionario. Solo que ya esta vacio. Para incluir datos dentro de un diccionario, tenemos que agregar pares llaves-valor dentro de las llaves ({}),. Cada par llave-valor se separa con una (,)"
   ]
  },
  {
   "cell_type": "code",
   "execution_count": 3,
   "id": "c177be8c",
   "metadata": {},
   "outputs": [],
   "source": [
    "diccionario_2 = {\n",
    "'llave_1':'valor_1',\n",
    "'llave_2':'valor_2',\n",
    "'llave_3':'valor_3',\n",
    "'llave_4':'valor_4'\n",
    "}"
   ]
  },
  {
   "cell_type": "markdown",
   "id": "470192db",
   "metadata": {},
   "source": [
    "Nuestras llaves pueden ser tanto `string` como `int` (y estos pueden ser otras cosas, pero estos son los mas comunes)"
   ]
  },
  {
   "cell_type": "code",
   "execution_count": 4,
   "id": "1226e94d",
   "metadata": {},
   "outputs": [],
   "source": [
    "diccionario_3 = {\n",
    "1:\"Uno\",\n",
    "2:\"Dos\",\n",
    "3:\"Tres\",\n",
    "4:\"Cuatro\"\n",
    "}"
   ]
  },
  {
   "cell_type": "markdown",
   "id": "7853ec36",
   "metadata": {},
   "source": [
    "Nuestros valores pueden ser cualquier tipo de dato que se conozca hasta este momento. "
   ]
  },
  {
   "cell_type": "code",
   "execution_count": 5,
   "id": "bbc8be11",
   "metadata": {},
   "outputs": [],
   "source": [
    "diccionario_4 = {\n",
    "    \"int\":123,\n",
    "    \"float\":23.56,\n",
    "    \"string\": \"hola\",\n",
    "    \"boolean\" : True,\n",
    "    \"lista\": [1,2,3,4], \n",
    "    \"diccionario\": {\n",
    "        1:'uno',\n",
    "        2:'dos'\n",
    "    }\n",
    "}"
   ]
  },
  {
   "cell_type": "markdown",
   "id": "9fe4fd9b",
   "metadata": {},
   "source": [
    "Acceder a un diccionario es tan facil como escribir el nombre del diccionario, agregar corchetes ('[]') y pasarle el nombre de la llave (o clave) que quieres acceder. Por obvias razones, su diccionario no puede tener mas de una llave con el mismo nombre. Si tenemos otras estructuras de datos dentro de nuestro diccionario, podemos acceder a los elementos dentro de ellas despues de habaer accedido primero a toda las estructura de datos: "
   ]
  },
  {
   "cell_type": "code",
   "execution_count": 15,
   "id": "809c0ee6",
   "metadata": {},
   "outputs": [
    {
     "name": "stdout",
     "output_type": "stream",
     "text": [
      "23.56\n",
      "True\n",
      "[1, 2, 3, 4]\n",
      "3\n",
      "dos\n"
     ]
    }
   ],
   "source": [
    "print (diccionario_4 ['float'])\n",
    "print(diccionario_4['boolean'])\n",
    "print(diccionario_4['lista'])\n",
    "print(diccionario_4['lista'][2])\n",
    "print(diccionario_4['diccionario'][2])\n"
   ]
  }
 ],
 "metadata": {
  "kernelspec": {
   "display_name": "Python 3",
   "language": "python",
   "name": "python3"
  },
  "language_info": {
   "codemirror_mode": {
    "name": "ipython",
    "version": 3
   },
   "file_extension": ".py",
   "mimetype": "text/x-python",
   "name": "python",
   "nbconvert_exporter": "python",
   "pygments_lexer": "ipython3",
   "version": "3.12.10"
  }
 },
 "nbformat": 4,
 "nbformat_minor": 5
}

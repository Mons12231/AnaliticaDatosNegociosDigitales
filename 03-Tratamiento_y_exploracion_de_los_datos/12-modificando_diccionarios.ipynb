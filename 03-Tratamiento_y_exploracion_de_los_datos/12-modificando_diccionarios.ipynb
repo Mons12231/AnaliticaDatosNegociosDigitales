{
 "cells": [
  {
   "cell_type": "markdown",
   "id": "156d839e",
   "metadata": {},
   "source": [
    "#  Modificando diccionarios "
   ]
  },
  {
   "cell_type": "markdown",
   "id": "2476985f",
   "metadata": {},
   "source": [
    "## 1. Objetivos \n",
    "- Practicar los 3 metodos basicos de modificacion de diccionarios:**agregar datos, modificar datos y borrar llaves**"
   ]
  },
  {
   "cell_type": "markdown",
   "id": "963070e2",
   "metadata": {},
   "source": [
    "## 2. Desarrollo \n",
    "Tenemos 3 maneras basicas de modificar los diccionarios \n",
    "\n",
    "---"
   ]
  },
  {
   "cell_type": "markdown",
   "id": "61d2034c",
   "metadata": {},
   "source": [
    "### Agregar datos \n",
    "Para agregar un dato a un diccionario ya existente, basta con llamar la llave que queremos agregar y asignar un valor "
   ]
  },
  {
   "cell_type": "code",
   "execution_count": 1,
   "id": "1d6cb386",
   "metadata": {},
   "outputs": [],
   "source": [
    "from pprint import pprint"
   ]
  },
  {
   "cell_type": "code",
   "execution_count": 2,
   "id": "2a1260fa",
   "metadata": {},
   "outputs": [
    {
     "name": "stdout",
     "output_type": "stream",
     "text": [
      "{'nombre': 'maluma', 'telefono': 5546458978, 'dir': {'colonia': 'el 61', 'calle': 'pirineos', 'num': 69, 'cp': 42830}}\n"
     ]
    }
   ],
   "source": [
    "info_de_contacto = {\n",
    "\n",
    "    'nombre':'maluma',\n",
    "    'telefono': 5546458978,\n",
    "    'dir': {\n",
    "        'colonia': 'el 61', \n",
    "        'calle': 'pirineos',\n",
    "        'num':69,\n",
    "        'cp':42830\n",
    "    }\n",
    "}\n",
    "\n",
    "print(info_de_contacto)"
   ]
  },
  {
   "cell_type": "code",
   "execution_count": 3,
   "id": "ef6e92cd",
   "metadata": {},
   "outputs": [
    {
     "name": "stdout",
     "output_type": "stream",
     "text": [
      "{'dir': {'calle': 'pirineos', 'colonia': 'el 61', 'cp': 42830, 'num': 69},\n",
      " 'nombre': 'maluma',\n",
      " 'telefono': 5546458978}\n"
     ]
    }
   ],
   "source": [
    "pprint(info_de_contacto)"
   ]
  },
  {
   "cell_type": "code",
   "execution_count": 4,
   "id": "b333340f",
   "metadata": {},
   "outputs": [],
   "source": [
    "info_de_contacto ['email'] = 'maluma_hasta_abajo@regechafa.com'\n"
   ]
  },
  {
   "cell_type": "code",
   "execution_count": 5,
   "id": "296f7464",
   "metadata": {},
   "outputs": [
    {
     "name": "stdout",
     "output_type": "stream",
     "text": [
      "{'dir': {'calle': 'pirineos', 'colonia': 'el 61', 'cp': 42830, 'num': 69},\n",
      " 'email': 'maluma_hasta_abajo@regechafa.com',\n",
      " 'nombre': 'maluma',\n",
      " 'telefono': 5546458978}\n"
     ]
    }
   ],
   "source": [
    "pprint (info_de_contacto)"
   ]
  },
  {
   "cell_type": "markdown",
   "id": "f7a58670",
   "metadata": {},
   "source": [
    "## Modificar pares llaves-valor existentes \n",
    "\n",
    "Para modificar un par llave-valor ya existente, basta con un reasignar a una llave de nuestro diccionario el nuevo valor que queremos agregar. Por ejemplo, imagenemos que esta persona cambio de direccion:"
   ]
  },
  {
   "cell_type": "code",
   "execution_count": 6,
   "id": "0f9d4d5d",
   "metadata": {},
   "outputs": [
    {
     "name": "stdout",
     "output_type": "stream",
     "text": [
      "{'dir': {'colonia': 'escandalo'},\n",
      " 'email': 'maluma_hasta_abajo@regechafa.com',\n",
      " 'nombre': 'maluma',\n",
      " 'telefono': 5546458978}\n"
     ]
    }
   ],
   "source": [
    "info_de_contacto['dir'] = {\n",
    "    'colonia': 'escandalo'\n",
    "}\n",
    "pprint(info_de_contacto)"
   ]
  },
  {
   "cell_type": "code",
   "execution_count": 7,
   "id": "44e7eb81",
   "metadata": {},
   "outputs": [],
   "source": [
    "info_de_contacto['dir']['colonia'] ='SalteSiPuedes'"
   ]
  },
  {
   "cell_type": "code",
   "execution_count": 8,
   "id": "c7f186da",
   "metadata": {},
   "outputs": [
    {
     "name": "stdout",
     "output_type": "stream",
     "text": [
      "{'dir': {'colonia': 'SalteSiPuedes'},\n",
      " 'email': 'maluma_hasta_abajo@regechafa.com',\n",
      " 'nombre': 'maluma',\n",
      " 'telefono': 5546458978}\n"
     ]
    }
   ],
   "source": [
    "pprint(info_de_contacto)"
   ]
  },
  {
   "cell_type": "markdown",
   "id": "c1c20cde",
   "metadata": {},
   "source": [
    "Podemos incluso modificar estructuras de datos dentro de nuestro diccionario. Por ejemplo, Que tal si hubo un error al agregar la nueva direccion y ahora tenemos que cambiar solamente el numero?:\n"
   ]
  },
  {
   "cell_type": "code",
   "execution_count": 9,
   "id": "d211f36b",
   "metadata": {},
   "outputs": [
    {
     "name": "stdout",
     "output_type": "stream",
     "text": [
      "{'dir': {'colonia': 'SalteSiPuedes', 'num': 666},\n",
      " 'email': 'maluma_hasta_abajo@regechafa.com',\n",
      " 'nombre': 'maluma',\n",
      " 'telefono': 5546458978}\n"
     ]
    }
   ],
   "source": [
    "info_de_contacto['dir']['num'] = 666\n",
    "pprint(info_de_contacto)"
   ]
  },
  {
   "cell_type": "markdown",
   "id": "bb33d1e0",
   "metadata": {},
   "source": [
    "## Eliminando datos del diccionario \n",
    "Para eliminar datos, se puede usar el metodo `pop`. Como se recordara, el nombre de este metodo es identico al metodo para eliminar elementos de una lista. La diferencia es que el metodo `pop` de ;as listas recibe indences como argumentos, el metodo `pop` de diccionarios recibe llaves como argumentos."
   ]
  }
 ],
 "metadata": {
  "kernelspec": {
   "display_name": "Python 3",
   "language": "python",
   "name": "python3"
  },
  "language_info": {
   "codemirror_mode": {
    "name": "ipython",
    "version": 3
   },
   "file_extension": ".py",
   "mimetype": "text/x-python",
   "name": "python",
   "nbconvert_exporter": "python",
   "pygments_lexer": "ipython3",
   "version": "3.12.10"
  }
 },
 "nbformat": 4,
 "nbformat_minor": 5
}

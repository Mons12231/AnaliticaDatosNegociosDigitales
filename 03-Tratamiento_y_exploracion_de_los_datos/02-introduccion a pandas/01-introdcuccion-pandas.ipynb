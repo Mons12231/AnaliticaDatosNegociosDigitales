{
 "cells": [
  {
   "cell_type": "markdown",
   "id": "64e62b67",
   "metadata": {},
   "source": [
    "## ¿Que es pandas?"
   ]
  },
  {
   "cell_type": "markdown",
   "id": "01f16d94",
   "metadata": {},
   "source": [
    "Pandas es una libreria de Python, especializada en el manejo y analisis de estructuras de datos. Nos ayuda a manipilar, modelar, analizar y preparar los datos. "
   ]
  },
  {
   "cell_type": "markdown",
   "id": "efd769bc",
   "metadata": {},
   "source": [
    "## Caracteristicas \n",
    "- Leer y escribir facilmente ficheros en formato csv, excel y bases de datos SQL. \n",
    "- Permite acceder a los datos mediante indices o nombres para filas y columnas\n",
    "- Ofrece metodos para reordenar, dividir y combinar un conjunto de datos."
   ]
  },
  {
   "cell_type": "markdown",
   "id": "ee067827",
   "metadata": {},
   "source": [
    "# Como se instala Pandas \n"
   ]
  },
  {
   "cell_type": "code",
   "execution_count": 1,
   "id": "7c137878",
   "metadata": {},
   "outputs": [],
   "source": [
    "import pandas as pd"
   ]
  },
  {
   "cell_type": "code",
   "execution_count": 2,
   "id": "c3891ab2",
   "metadata": {},
   "outputs": [
    {
     "name": "stdout",
     "output_type": "stream",
     "text": [
      "  Nombre  Edad\n",
      "0    Ana    23\n",
      "1   Luis    30\n",
      "2  Pedro    27\n"
     ]
    }
   ],
   "source": [
    "# comprobar si funciona pandas o no \n",
    "datos = {\n",
    "    \"Nombre\": [\"Ana\", \"Luis\", \"Pedro\"],\n",
    "    \"Edad\": [23, 30, 27]\n",
    "}\n",
    "\n",
    "df = pd.DataFrame(datos)\n",
    "\n",
    "print(df)"
   ]
  },
  {
   "cell_type": "markdown",
   "id": "ce7bd847",
   "metadata": {},
   "source": [
    "# Series"
   ]
  },
  {
   "cell_type": "markdown",
   "id": "1fd2e878",
   "metadata": {},
   "source": [
    "Es un arreglo unidimensional que puede contener datos de cualquier tipo como `enteros, flotantes, cadenas de texto, etc` y tiene un indice asocido. Lo que facilita la manipulacion y el acceso a los datos. "
   ]
  },
  {
   "cell_type": "code",
   "execution_count": 3,
   "id": "fb44d219",
   "metadata": {},
   "outputs": [],
   "source": [
    "# crear una lista \n",
    "\n",
    "edad = [30,40,50]"
   ]
  },
  {
   "cell_type": "code",
   "execution_count": 4,
   "id": "44f8725b",
   "metadata": {},
   "outputs": [],
   "source": [
    "# convertirla a serie \n",
    "serie = pd.Series(edad)"
   ]
  },
  {
   "cell_type": "code",
   "execution_count": 5,
   "id": "48f880fc",
   "metadata": {},
   "outputs": [
    {
     "data": {
      "text/plain": [
       "0    30\n",
       "1    40\n",
       "2    50\n",
       "dtype: int64"
      ]
     },
     "execution_count": 5,
     "metadata": {},
     "output_type": "execute_result"
    }
   ],
   "source": [
    "# mostrar resultado \n",
    "serie "
   ]
  },
  {
   "cell_type": "code",
   "execution_count": 6,
   "id": "76a677db",
   "metadata": {},
   "outputs": [
    {
     "data": {
      "text/plain": [
       "np.int64(40)"
      ]
     },
     "execution_count": 6,
     "metadata": {},
     "output_type": "execute_result"
    }
   ],
   "source": [
    "serie [1]"
   ]
  },
  {
   "cell_type": "code",
   "execution_count": 7,
   "id": "4a755bed",
   "metadata": {},
   "outputs": [],
   "source": [
    "# cambiar indices \n",
    "serie  = pd.Series(edad, index = [\"Alex\", \"John\", \"Maria\"])"
   ]
  },
  {
   "cell_type": "code",
   "execution_count": 8,
   "id": "d0533df0",
   "metadata": {},
   "outputs": [
    {
     "data": {
      "text/plain": [
       "Alex     30\n",
       "John     40\n",
       "Maria    50\n",
       "dtype: int64"
      ]
     },
     "execution_count": 8,
     "metadata": {},
     "output_type": "execute_result"
    }
   ],
   "source": [
    "serie"
   ]
  },
  {
   "cell_type": "code",
   "execution_count": 9,
   "id": "336d9d9d",
   "metadata": {},
   "outputs": [
    {
     "data": {
      "text/plain": [
       "np.int64(30)"
      ]
     },
     "execution_count": 9,
     "metadata": {},
     "output_type": "execute_result"
    }
   ],
   "source": [
    "serie [\"Alex\"]"
   ]
  },
  {
   "cell_type": "markdown",
   "id": "9cc32f64",
   "metadata": {},
   "source": [
    "### Ejemplo 2"
   ]
  },
  {
   "cell_type": "code",
   "execution_count": 10,
   "id": "257f8493",
   "metadata": {},
   "outputs": [
    {
     "name": "stdout",
     "output_type": "stream",
     "text": [
      "0      1\n",
      "1      4\n",
      "2      9\n",
      "3      2\n",
      "4      6\n",
      "5     10\n",
      "6    200\n",
      "dtype: int64\n"
     ]
    }
   ],
   "source": [
    "naranjas = pd.Series([1,4,9,2,6,10,200])\n",
    "print(naranjas)\n"
   ]
  },
  {
   "cell_type": "code",
   "execution_count": 11,
   "id": "0fee924b",
   "metadata": {},
   "outputs": [
    {
     "data": {
      "text/plain": [
       "pandas.core.series.Series"
      ]
     },
     "execution_count": 11,
     "metadata": {},
     "output_type": "execute_result"
    }
   ],
   "source": [
    "type (naranjas)"
   ]
  },
  {
   "cell_type": "code",
   "execution_count": 24,
   "id": "e3492dfb",
   "metadata": {},
   "outputs": [
    {
     "name": "stdout",
     "output_type": "stream",
     "text": [
      "Marco       1\n",
      "Ana         4\n",
      "Juan        9\n",
      "Pedro       2\n",
      "Estela      6\n",
      "Ivan       10\n",
      "Luis      200\n",
      "dtype: int64\n"
     ]
    }
   ],
   "source": [
    "naranjas = pd.Series([1,4,9,2,6,10,200], index = [\"Marco\", \"Ana\", \"Juan\", \"Pedro\", \"Estela\", \"Ivan\",\"Luis\"])\n",
    "print (naranjas)"
   ]
  },
  {
   "cell_type": "markdown",
   "id": "0c9fe6b5",
   "metadata": {},
   "source": [
    "### Creacion de una serie apartir de un diccionario "
   ]
  },
  {
   "cell_type": "code",
   "execution_count": 26,
   "id": "22e283c9",
   "metadata": {},
   "outputs": [],
   "source": [
    "materias = pd.Series({'Matematicas':60, 'Fisica':100, 'Quimica':78})\n"
   ]
  },
  {
   "cell_type": "code",
   "execution_count": 27,
   "id": "b9c6ed14",
   "metadata": {},
   "outputs": [
    {
     "name": "stdout",
     "output_type": "stream",
     "text": [
      "Matematicas     60\n",
      "Fisica         100\n",
      "Quimica         78\n",
      "dtype: int64\n"
     ]
    }
   ],
   "source": [
    "print(materias)"
   ]
  },
  {
   "cell_type": "markdown",
   "id": "2c3d4682",
   "metadata": {},
   "source": [
    "# Propiedades de una serie \n",
    "Cuentan con 3 propiedades que son fundamentales:\n",
    "- .size = Devuelve el numero de elementos de la serie \n",
    "- .index = Devuelve una lista con los nombres de las filas del dataframe \n",
    "- .dtype = devuelve el tipo de datos de los elementos de la serie "
   ]
  },
  {
   "cell_type": "code",
   "execution_count": 29,
   "id": "a110d80f",
   "metadata": {},
   "outputs": [
    {
     "data": {
      "text/plain": [
       "9"
      ]
     },
     "execution_count": 29,
     "metadata": {},
     "output_type": "execute_result"
    }
   ],
   "source": [
    "# ejemplo 1 \n",
    "numeros = pd.Series([1,2,3,4,5,6,7,8,9])\n",
    "numeros.size"
   ]
  },
  {
   "cell_type": "code",
   "execution_count": 30,
   "id": "79a0673c",
   "metadata": {},
   "outputs": [
    {
     "data": {
      "text/plain": [
       "RangeIndex(start=0, stop=9, step=1)"
      ]
     },
     "execution_count": 30,
     "metadata": {},
     "output_type": "execute_result"
    }
   ],
   "source": [
    "numeros = pd.Series([1,2,3,4,5,6,7,8,9])\n",
    "numeros.index"
   ]
  },
  {
   "cell_type": "code",
   "execution_count": 31,
   "id": "d0ec047d",
   "metadata": {},
   "outputs": [
    {
     "data": {
      "text/plain": [
       "dtype('int64')"
      ]
     },
     "execution_count": 31,
     "metadata": {},
     "output_type": "execute_result"
    }
   ],
   "source": [
    "numeros = pd.Series([1,2,3,4,5,6,7,8,9])\n",
    "numeros.dtype "
   ]
  },
  {
   "cell_type": "markdown",
   "id": "19878f8d",
   "metadata": {},
   "source": [
    "# Acceso a una serie "
   ]
  },
  {
   "cell_type": "code",
   "execution_count": 32,
   "id": "7cde5de1",
   "metadata": {},
   "outputs": [
    {
     "data": {
      "text/plain": [
       "1    azul\n",
       "dtype: object"
      ]
     },
     "execution_count": 32,
     "metadata": {},
     "output_type": "execute_result"
    }
   ],
   "source": [
    "# ejemplo \n",
    "colores = pd.Series(['rojo', 'azul', ' amarillo', 'verde', 'morado'])\n",
    "colores [1:2]"
   ]
  },
  {
   "cell_type": "code",
   "execution_count": 35,
   "id": "36c431b6",
   "metadata": {},
   "outputs": [
    {
     "data": {
      "text/plain": [
       "fisica     100\n",
       "quimica     78\n",
       "dtype: int64"
      ]
     },
     "execution_count": 35,
     "metadata": {},
     "output_type": "execute_result"
    }
   ],
   "source": [
    "# ejemplo 2\n",
    "materias = pd.Series({'matematicas': 60, 'fisica': 100, 'quimica': 78})\n",
    "materias [['fisica', 'quimica']]"
   ]
  },
  {
   "cell_type": "markdown",
   "id": "3066399e",
   "metadata": {},
   "source": [
    "# Operaciones "
   ]
  },
  {
   "cell_type": "code",
   "execution_count": null,
   "id": "fcb9c33f",
   "metadata": {},
   "outputs": [
    {
     "data": {
      "text/plain": [
       "0     2\n",
       "1     4\n",
       "2     6\n",
       "3     8\n",
       "4    10\n",
       "5    12\n",
       "dtype: int64"
      ]
     },
     "execution_count": 36,
     "metadata": {},
     "output_type": "execute_result"
    }
   ],
   "source": [
    "# ejemplo 1 \n",
    "numeros = pd.Series ([1,2,3,4,5,6])\n",
    "numeros * 2 "
   ]
  },
  {
   "cell_type": "markdown",
   "id": "7b0bbd8a",
   "metadata": {},
   "source": [
    "# Funciones de la serie "
   ]
  },
  {
   "cell_type": "code",
   "execution_count": 22,
   "id": "ef84ea42",
   "metadata": {},
   "outputs": [
    {
     "data": {
      "text/plain": [
       "np.int64(45)"
      ]
     },
     "execution_count": 22,
     "metadata": {},
     "output_type": "execute_result"
    }
   ],
   "source": [
    "numeros = pd.Series([1,2,3,4,5,6,7,8,9])\n",
    "numeros.sum()"
   ]
  },
  {
   "cell_type": "code",
   "execution_count": 23,
   "id": "c16f0acf",
   "metadata": {},
   "outputs": [
    {
     "data": {
      "text/plain": [
       "np.int64(9)"
      ]
     },
     "execution_count": 23,
     "metadata": {},
     "output_type": "execute_result"
    }
   ],
   "source": [
    "numeros = pd.Series([1,2,3,4,5,6,7,8,9])\n",
    "numeros.max()"
   ]
  },
  {
   "cell_type": "code",
   "execution_count": 24,
   "id": "16d3a815",
   "metadata": {},
   "outputs": [
    {
     "data": {
      "text/plain": [
       "np.int64(1)"
      ]
     },
     "execution_count": 24,
     "metadata": {},
     "output_type": "execute_result"
    }
   ],
   "source": [
    "numeros = pd.Series([1,2,3,4,5,6,7,8,9])\n",
    "numeros.min()"
   ]
  },
  {
   "cell_type": "code",
   "execution_count": 25,
   "id": "ad70103f",
   "metadata": {},
   "outputs": [
    {
     "data": {
      "text/plain": [
       "np.float64(2.7386127875258306)"
      ]
     },
     "execution_count": 25,
     "metadata": {},
     "output_type": "execute_result"
    }
   ],
   "source": [
    "numeros = pd.Series([1,2,3,4,5,6,7,8,9])\n",
    "numeros.std()"
   ]
  },
  {
   "cell_type": "code",
   "execution_count": 26,
   "id": "ea077ec0",
   "metadata": {},
   "outputs": [
    {
     "data": {
      "text/plain": [
       "count    9.000000\n",
       "mean     5.000000\n",
       "std      2.738613\n",
       "min      1.000000\n",
       "25%      3.000000\n",
       "50%      5.000000\n",
       "75%      7.000000\n",
       "max      9.000000\n",
       "dtype: float64"
      ]
     },
     "execution_count": 26,
     "metadata": {},
     "output_type": "execute_result"
    }
   ],
   "source": [
    "numeros = pd.Series([1,2,3,4,5,6,7,8,9])\n",
    "numeros.describe()"
   ]
  },
  {
   "cell_type": "code",
   "execution_count": 30,
   "id": "3a6dcbdb",
   "metadata": {},
   "outputs": [],
   "source": [
    "# ejemplo 1\n",
    "serie = pd.Series({'MATE':8, 'ECONOMIA':6, 'PROGRAMACION':10,'FISICA':5})"
   ]
  },
  {
   "cell_type": "code",
   "execution_count": 31,
   "id": "1a2abf43",
   "metadata": {},
   "outputs": [
    {
     "name": "stdout",
     "output_type": "stream",
     "text": [
      "MATE             8\n",
      "PROGRAMACION    10\n",
      "dtype: int64\n"
     ]
    }
   ],
   "source": [
    "print(serie[serie > 6])\n"
   ]
  },
  {
   "cell_type": "code",
   "execution_count": 32,
   "id": "9703d6b9",
   "metadata": {},
   "outputs": [
    {
     "name": "stdout",
     "output_type": "stream",
     "text": [
      "<bound method Series.sort_values of MATE             8\n",
      "ECONOMIA         6\n",
      "PROGRAMACION    10\n",
      "FISICA           5\n",
      "dtype: int64>\n"
     ]
    }
   ],
   "source": [
    "print(serie.sort_values)"
   ]
  },
  {
   "cell_type": "code",
   "execution_count": 35,
   "id": "2ed17cc8",
   "metadata": {},
   "outputs": [
    {
     "name": "stdout",
     "output_type": "stream",
     "text": [
      "ECONOMIA         6\n",
      "FISICA           5\n",
      "MATE             8\n",
      "PROGRAMACION    10\n",
      "dtype: int64\n"
     ]
    }
   ],
   "source": [
    "print(serie.sort_index(ascending=True))"
   ]
  },
  {
   "cell_type": "code",
   "execution_count": 36,
   "id": "2e55d1c8",
   "metadata": {},
   "outputs": [
    {
     "name": "stdout",
     "output_type": "stream",
     "text": [
      "PROGRAMACION    10\n",
      "MATE             8\n",
      "ECONOMIA         6\n",
      "FISICA           5\n",
      "dtype: int64\n"
     ]
    }
   ],
   "source": [
    "print(serie.sort_values(ascending=False))"
   ]
  },
  {
   "cell_type": "markdown",
   "id": "39d3645e",
   "metadata": {},
   "source": [
    "### Crear una serie apartir de un valor escalar"
   ]
  },
  {
   "cell_type": "code",
   "execution_count": 38,
   "id": "a05c40ad",
   "metadata": {},
   "outputs": [
    {
     "name": "stdout",
     "output_type": "stream",
     "text": [
      "0    6\n",
      "1    6\n",
      "2    6\n",
      "3    6\n",
      "4    6\n",
      "5    6\n",
      "dtype: int64\n"
     ]
    }
   ],
   "source": [
    "data = 6\n",
    "serie = pd.Series(data, index=[0,1,2,3,4,5])\n",
    "print(serie)"
   ]
  },
  {
   "cell_type": "markdown",
   "id": "0549e579",
   "metadata": {},
   "source": [
    "## Serie con un indice definido "
   ]
  },
  {
   "cell_type": "code",
   "execution_count": 39,
   "id": "8e0f7320",
   "metadata": {},
   "outputs": [
    {
     "name": "stdout",
     "output_type": "stream",
     "text": [
      "PSG                                Mesi\n",
      "Manchester Unisted    Cristiano Ronaldo\n",
      " Real Madrid                    Benzema\n",
      "dtype: object\n"
     ]
    }
   ],
   "source": [
    "data_list = ['Mesi', 'Cristiano Ronaldo', 'Benzema']\n",
    "indices = ['PSG', 'Manchester Unisted',' Real Madrid']\n",
    "futbool = pd.Series (index = indices, data = data_list)\n",
    "print (futbool)"
   ]
  },
  {
   "cell_type": "markdown",
   "id": "8425ac10",
   "metadata": {},
   "source": [
    "## Dataframe "
   ]
  },
  {
   "cell_type": "markdown",
   "id": "77f5863e",
   "metadata": {},
   "source": [
    "Referencias \n",
    "data = diccionario \n",
    "index = filas\n",
    "columns = colummnas "
   ]
  },
  {
   "cell_type": "code",
   "execution_count": 3,
   "id": "fbb3466d",
   "metadata": {},
   "outputs": [
    {
     "name": "stdout",
     "output_type": "stream",
     "text": [
      "  NOMBRE      CARRERA           CORREO\n",
      "0  Mario    Auditoria  maria@gmail.com\n",
      "1   Jose  Informatica   jose@gmail.com\n",
      "2  David      Derecho  david@gmail.com\n",
      "3   Ivan      Idiomas   ivan@gmail.com\n"
     ]
    }
   ],
   "source": [
    "data = {'NOMBRE': ['Mario', 'Jose', 'David', 'Ivan'],\n",
    "        'CARRERA': ['Auditoria','Informatica', 'Derecho','Idiomas'],\n",
    "        'CORREO': ['maria@gmail.com', 'jose@gmail.com', 'david@gmail.com','ivan@gmail.com']}\n",
    "estudiantes = pd.DataFrame(data)\n",
    "print(estudiantes)"
   ]
  },
  {
   "cell_type": "markdown",
   "id": "7b938677",
   "metadata": {},
   "source": [
    "### Dataframe apartir de una lista"
   ]
  },
  {
   "cell_type": "code",
   "execution_count": 9,
   "id": "2efc1528",
   "metadata": {},
   "outputs": [
    {
     "name": "stdout",
     "output_type": "stream",
     "text": [
      "  nombre  edad\n",
      "0  Mario    27\n",
      "1  david    34\n",
      "2    ana    18\n",
      "3   jose    17\n"
     ]
    }
   ],
   "source": [
    "df = pd.DataFrame([['Mario',27],['david',34],['ana',18],['jose',17]], \n",
    "                   columns = ['nombre','edad'])\n",
    "print(df)"
   ]
  },
  {
   "cell_type": "code",
   "execution_count": 10,
   "id": "668a534b",
   "metadata": {},
   "outputs": [
    {
     "name": "stdout",
     "output_type": "stream",
     "text": [
      "          a         b         c\n",
      "0  0.203669  0.141632 -0.271319\n",
      "1  1.454834 -0.917605 -1.376806\n",
      "2  1.434392  1.157101 -0.586934\n",
      "3 -0.994059  0.143085 -0.753332\n"
     ]
    }
   ],
   "source": [
    "# generar un datframe apartir de un arrive \n",
    "import pandas as pd \n",
    "import numpy as np \n",
    "df = pd.DataFrame(np.random.randn(4,3), columns= ['a','b','c'])\n",
    "print (df)"
   ]
  },
  {
   "cell_type": "markdown",
   "id": "5cc85847",
   "metadata": {},
   "source": [
    "### Importar un csv "
   ]
  },
  {
   "cell_type": "code",
   "execution_count": 15,
   "id": "6d5eaf7e",
   "metadata": {},
   "outputs": [],
   "source": [
    "import pandas as pd\n",
    "import numpy as np\n",
    "import matplotlib as plt"
   ]
  },
  {
   "cell_type": "code",
   "execution_count": 18,
   "id": "eafbc052",
   "metadata": {},
   "outputs": [],
   "source": [
    "df_netflix = pd.read_csv(\"C:/Users/jeonm/Downloads/netflix_titles.csv\")"
   ]
  },
  {
   "cell_type": "code",
   "execution_count": 19,
   "id": "a0268d36",
   "metadata": {},
   "outputs": [
    {
     "name": "stdout",
     "output_type": "stream",
     "text": [
      "Primeras filas del DataFrame:\n"
     ]
    },
    {
     "data": {
      "text/html": [
       "<div>\n",
       "<style scoped>\n",
       "    .dataframe tbody tr th:only-of-type {\n",
       "        vertical-align: middle;\n",
       "    }\n",
       "\n",
       "    .dataframe tbody tr th {\n",
       "        vertical-align: top;\n",
       "    }\n",
       "\n",
       "    .dataframe thead th {\n",
       "        text-align: right;\n",
       "    }\n",
       "</style>\n",
       "<table border=\"1\" class=\"dataframe\">\n",
       "  <thead>\n",
       "    <tr style=\"text-align: right;\">\n",
       "      <th></th>\n",
       "      <th>show_id</th>\n",
       "      <th>type</th>\n",
       "      <th>title</th>\n",
       "      <th>director</th>\n",
       "      <th>cast</th>\n",
       "      <th>country</th>\n",
       "      <th>date_added</th>\n",
       "      <th>release_year</th>\n",
       "      <th>rating</th>\n",
       "      <th>duration</th>\n",
       "      <th>listed_in</th>\n",
       "      <th>description</th>\n",
       "    </tr>\n",
       "  </thead>\n",
       "  <tbody>\n",
       "    <tr>\n",
       "      <th>0</th>\n",
       "      <td>s1</td>\n",
       "      <td>Movie</td>\n",
       "      <td>Dick Johnson Is Dead</td>\n",
       "      <td>Kirsten Johnson</td>\n",
       "      <td>NaN</td>\n",
       "      <td>United States</td>\n",
       "      <td>September 25, 2021</td>\n",
       "      <td>2020</td>\n",
       "      <td>PG-13</td>\n",
       "      <td>90 min</td>\n",
       "      <td>Documentaries</td>\n",
       "      <td>As her father nears the end of his life, filmm...</td>\n",
       "    </tr>\n",
       "    <tr>\n",
       "      <th>1</th>\n",
       "      <td>s2</td>\n",
       "      <td>TV Show</td>\n",
       "      <td>Blood &amp; Water</td>\n",
       "      <td>NaN</td>\n",
       "      <td>Ama Qamata, Khosi Ngema, Gail Mabalane, Thaban...</td>\n",
       "      <td>South Africa</td>\n",
       "      <td>September 24, 2021</td>\n",
       "      <td>2021</td>\n",
       "      <td>TV-MA</td>\n",
       "      <td>2 Seasons</td>\n",
       "      <td>International TV Shows, TV Dramas, TV Mysteries</td>\n",
       "      <td>After crossing paths at a party, a Cape Town t...</td>\n",
       "    </tr>\n",
       "    <tr>\n",
       "      <th>2</th>\n",
       "      <td>s3</td>\n",
       "      <td>TV Show</td>\n",
       "      <td>Ganglands</td>\n",
       "      <td>Julien Leclercq</td>\n",
       "      <td>Sami Bouajila, Tracy Gotoas, Samuel Jouy, Nabi...</td>\n",
       "      <td>NaN</td>\n",
       "      <td>September 24, 2021</td>\n",
       "      <td>2021</td>\n",
       "      <td>TV-MA</td>\n",
       "      <td>1 Season</td>\n",
       "      <td>Crime TV Shows, International TV Shows, TV Act...</td>\n",
       "      <td>To protect his family from a powerful drug lor...</td>\n",
       "    </tr>\n",
       "    <tr>\n",
       "      <th>3</th>\n",
       "      <td>s4</td>\n",
       "      <td>TV Show</td>\n",
       "      <td>Jailbirds New Orleans</td>\n",
       "      <td>NaN</td>\n",
       "      <td>NaN</td>\n",
       "      <td>NaN</td>\n",
       "      <td>September 24, 2021</td>\n",
       "      <td>2021</td>\n",
       "      <td>TV-MA</td>\n",
       "      <td>1 Season</td>\n",
       "      <td>Docuseries, Reality TV</td>\n",
       "      <td>Feuds, flirtations and toilet talk go down amo...</td>\n",
       "    </tr>\n",
       "    <tr>\n",
       "      <th>4</th>\n",
       "      <td>s5</td>\n",
       "      <td>TV Show</td>\n",
       "      <td>Kota Factory</td>\n",
       "      <td>NaN</td>\n",
       "      <td>Mayur More, Jitendra Kumar, Ranjan Raj, Alam K...</td>\n",
       "      <td>India</td>\n",
       "      <td>September 24, 2021</td>\n",
       "      <td>2021</td>\n",
       "      <td>TV-MA</td>\n",
       "      <td>2 Seasons</td>\n",
       "      <td>International TV Shows, Romantic TV Shows, TV ...</td>\n",
       "      <td>In a city of coaching centers known to train I...</td>\n",
       "    </tr>\n",
       "  </tbody>\n",
       "</table>\n",
       "</div>"
      ],
      "text/plain": [
       "  show_id     type                  title         director  \\\n",
       "0      s1    Movie   Dick Johnson Is Dead  Kirsten Johnson   \n",
       "1      s2  TV Show          Blood & Water              NaN   \n",
       "2      s3  TV Show              Ganglands  Julien Leclercq   \n",
       "3      s4  TV Show  Jailbirds New Orleans              NaN   \n",
       "4      s5  TV Show           Kota Factory              NaN   \n",
       "\n",
       "                                                cast        country  \\\n",
       "0                                                NaN  United States   \n",
       "1  Ama Qamata, Khosi Ngema, Gail Mabalane, Thaban...   South Africa   \n",
       "2  Sami Bouajila, Tracy Gotoas, Samuel Jouy, Nabi...            NaN   \n",
       "3                                                NaN            NaN   \n",
       "4  Mayur More, Jitendra Kumar, Ranjan Raj, Alam K...          India   \n",
       "\n",
       "           date_added  release_year rating   duration  \\\n",
       "0  September 25, 2021          2020  PG-13     90 min   \n",
       "1  September 24, 2021          2021  TV-MA  2 Seasons   \n",
       "2  September 24, 2021          2021  TV-MA   1 Season   \n",
       "3  September 24, 2021          2021  TV-MA   1 Season   \n",
       "4  September 24, 2021          2021  TV-MA  2 Seasons   \n",
       "\n",
       "                                           listed_in  \\\n",
       "0                                      Documentaries   \n",
       "1    International TV Shows, TV Dramas, TV Mysteries   \n",
       "2  Crime TV Shows, International TV Shows, TV Act...   \n",
       "3                             Docuseries, Reality TV   \n",
       "4  International TV Shows, Romantic TV Shows, TV ...   \n",
       "\n",
       "                                         description  \n",
       "0  As her father nears the end of his life, filmm...  \n",
       "1  After crossing paths at a party, a Cape Town t...  \n",
       "2  To protect his family from a powerful drug lor...  \n",
       "3  Feuds, flirtations and toilet talk go down amo...  \n",
       "4  In a city of coaching centers known to train I...  "
      ]
     },
     "execution_count": 19,
     "metadata": {},
     "output_type": "execute_result"
    }
   ],
   "source": [
    "# Mostrar las primeras filas del DataFrame\n",
    "print(\"Primeras filas del DataFrame:\")\n",
    "df_netflix.head()"
   ]
  },
  {
   "cell_type": "code",
   "execution_count": 20,
   "id": "a354c0b5",
   "metadata": {},
   "outputs": [
    {
     "name": "stdout",
     "output_type": "stream",
     "text": [
      "Ultimas filas del DataFrame:\n"
     ]
    },
    {
     "data": {
      "text/html": [
       "<div>\n",
       "<style scoped>\n",
       "    .dataframe tbody tr th:only-of-type {\n",
       "        vertical-align: middle;\n",
       "    }\n",
       "\n",
       "    .dataframe tbody tr th {\n",
       "        vertical-align: top;\n",
       "    }\n",
       "\n",
       "    .dataframe thead th {\n",
       "        text-align: right;\n",
       "    }\n",
       "</style>\n",
       "<table border=\"1\" class=\"dataframe\">\n",
       "  <thead>\n",
       "    <tr style=\"text-align: right;\">\n",
       "      <th></th>\n",
       "      <th>show_id</th>\n",
       "      <th>type</th>\n",
       "      <th>title</th>\n",
       "      <th>director</th>\n",
       "      <th>cast</th>\n",
       "      <th>country</th>\n",
       "      <th>date_added</th>\n",
       "      <th>release_year</th>\n",
       "      <th>rating</th>\n",
       "      <th>duration</th>\n",
       "      <th>listed_in</th>\n",
       "      <th>description</th>\n",
       "    </tr>\n",
       "  </thead>\n",
       "  <tbody>\n",
       "    <tr>\n",
       "      <th>8802</th>\n",
       "      <td>s8803</td>\n",
       "      <td>Movie</td>\n",
       "      <td>Zodiac</td>\n",
       "      <td>David Fincher</td>\n",
       "      <td>Mark Ruffalo, Jake Gyllenhaal, Robert Downey J...</td>\n",
       "      <td>United States</td>\n",
       "      <td>November 20, 2019</td>\n",
       "      <td>2007</td>\n",
       "      <td>R</td>\n",
       "      <td>158 min</td>\n",
       "      <td>Cult Movies, Dramas, Thrillers</td>\n",
       "      <td>A political cartoonist, a crime reporter and a...</td>\n",
       "    </tr>\n",
       "    <tr>\n",
       "      <th>8803</th>\n",
       "      <td>s8804</td>\n",
       "      <td>TV Show</td>\n",
       "      <td>Zombie Dumb</td>\n",
       "      <td>NaN</td>\n",
       "      <td>NaN</td>\n",
       "      <td>NaN</td>\n",
       "      <td>July 1, 2019</td>\n",
       "      <td>2018</td>\n",
       "      <td>TV-Y7</td>\n",
       "      <td>2 Seasons</td>\n",
       "      <td>Kids' TV, Korean TV Shows, TV Comedies</td>\n",
       "      <td>While living alone in a spooky town, a young g...</td>\n",
       "    </tr>\n",
       "    <tr>\n",
       "      <th>8804</th>\n",
       "      <td>s8805</td>\n",
       "      <td>Movie</td>\n",
       "      <td>Zombieland</td>\n",
       "      <td>Ruben Fleischer</td>\n",
       "      <td>Jesse Eisenberg, Woody Harrelson, Emma Stone, ...</td>\n",
       "      <td>United States</td>\n",
       "      <td>November 1, 2019</td>\n",
       "      <td>2009</td>\n",
       "      <td>R</td>\n",
       "      <td>88 min</td>\n",
       "      <td>Comedies, Horror Movies</td>\n",
       "      <td>Looking to survive in a world taken over by zo...</td>\n",
       "    </tr>\n",
       "    <tr>\n",
       "      <th>8805</th>\n",
       "      <td>s8806</td>\n",
       "      <td>Movie</td>\n",
       "      <td>Zoom</td>\n",
       "      <td>Peter Hewitt</td>\n",
       "      <td>Tim Allen, Courteney Cox, Chevy Chase, Kate Ma...</td>\n",
       "      <td>United States</td>\n",
       "      <td>January 11, 2020</td>\n",
       "      <td>2006</td>\n",
       "      <td>PG</td>\n",
       "      <td>88 min</td>\n",
       "      <td>Children &amp; Family Movies, Comedies</td>\n",
       "      <td>Dragged from civilian life, a former superhero...</td>\n",
       "    </tr>\n",
       "    <tr>\n",
       "      <th>8806</th>\n",
       "      <td>s8807</td>\n",
       "      <td>Movie</td>\n",
       "      <td>Zubaan</td>\n",
       "      <td>Mozez Singh</td>\n",
       "      <td>Vicky Kaushal, Sarah-Jane Dias, Raaghav Chanan...</td>\n",
       "      <td>India</td>\n",
       "      <td>March 2, 2019</td>\n",
       "      <td>2015</td>\n",
       "      <td>TV-14</td>\n",
       "      <td>111 min</td>\n",
       "      <td>Dramas, International Movies, Music &amp; Musicals</td>\n",
       "      <td>A scrappy but poor boy worms his way into a ty...</td>\n",
       "    </tr>\n",
       "  </tbody>\n",
       "</table>\n",
       "</div>"
      ],
      "text/plain": [
       "     show_id     type        title         director  \\\n",
       "8802   s8803    Movie       Zodiac    David Fincher   \n",
       "8803   s8804  TV Show  Zombie Dumb              NaN   \n",
       "8804   s8805    Movie   Zombieland  Ruben Fleischer   \n",
       "8805   s8806    Movie         Zoom     Peter Hewitt   \n",
       "8806   s8807    Movie       Zubaan      Mozez Singh   \n",
       "\n",
       "                                                   cast        country  \\\n",
       "8802  Mark Ruffalo, Jake Gyllenhaal, Robert Downey J...  United States   \n",
       "8803                                                NaN            NaN   \n",
       "8804  Jesse Eisenberg, Woody Harrelson, Emma Stone, ...  United States   \n",
       "8805  Tim Allen, Courteney Cox, Chevy Chase, Kate Ma...  United States   \n",
       "8806  Vicky Kaushal, Sarah-Jane Dias, Raaghav Chanan...          India   \n",
       "\n",
       "             date_added  release_year rating   duration  \\\n",
       "8802  November 20, 2019          2007      R    158 min   \n",
       "8803       July 1, 2019          2018  TV-Y7  2 Seasons   \n",
       "8804   November 1, 2019          2009      R     88 min   \n",
       "8805   January 11, 2020          2006     PG     88 min   \n",
       "8806      March 2, 2019          2015  TV-14    111 min   \n",
       "\n",
       "                                           listed_in  \\\n",
       "8802                  Cult Movies, Dramas, Thrillers   \n",
       "8803          Kids' TV, Korean TV Shows, TV Comedies   \n",
       "8804                         Comedies, Horror Movies   \n",
       "8805              Children & Family Movies, Comedies   \n",
       "8806  Dramas, International Movies, Music & Musicals   \n",
       "\n",
       "                                            description  \n",
       "8802  A political cartoonist, a crime reporter and a...  \n",
       "8803  While living alone in a spooky town, a young g...  \n",
       "8804  Looking to survive in a world taken over by zo...  \n",
       "8805  Dragged from civilian life, a former superhero...  \n",
       "8806  A scrappy but poor boy worms his way into a ty...  "
      ]
     },
     "execution_count": 20,
     "metadata": {},
     "output_type": "execute_result"
    }
   ],
   "source": [
    "print(\"Ultimas filas del DataFrame:\")\n",
    "df_netflix.tail()"
   ]
  },
  {
   "cell_type": "markdown",
   "id": "2a240862",
   "metadata": {},
   "source": [
    "### Ordenar valores por sort_Values\n"
   ]
  },
  {
   "cell_type": "code",
   "execution_count": 1,
   "id": "162c5b58",
   "metadata": {},
   "outputs": [
    {
     "name": "stdout",
     "output_type": "stream",
     "text": [
      "  Nombre  Edad\n",
      "0    Ana    22\n",
      "2  Pedro    23\n",
      "3  Marta    24\n",
      "1   Luis    25\n"
     ]
    }
   ],
   "source": [
    "import pandas as pd\n",
    "\n",
    "datos = {\n",
    "    \"Nombre\": [\"Ana\", \"Luis\", \"Pedro\", \"Marta\"],\n",
    "    \"Edad\": [22, 25, 23, 24]\n",
    "}\n",
    "\n",
    "df = pd.DataFrame(datos)\n",
    "\n",
    "# Ordenar de menor a mayor edad\n",
    "df_ordenado = df.sort_values(by=\"Edad\")\n",
    "print(df_ordenado)\n"
   ]
  },
  {
   "cell_type": "markdown",
   "id": "f3bb9f2a",
   "metadata": {},
   "source": [
    "# Orden descendente (de mayor a menor)"
   ]
  },
  {
   "cell_type": "code",
   "execution_count": 2,
   "id": "07ddb13a",
   "metadata": {},
   "outputs": [
    {
     "data": {
      "text/html": [
       "<div>\n",
       "<style scoped>\n",
       "    .dataframe tbody tr th:only-of-type {\n",
       "        vertical-align: middle;\n",
       "    }\n",
       "\n",
       "    .dataframe tbody tr th {\n",
       "        vertical-align: top;\n",
       "    }\n",
       "\n",
       "    .dataframe thead th {\n",
       "        text-align: right;\n",
       "    }\n",
       "</style>\n",
       "<table border=\"1\" class=\"dataframe\">\n",
       "  <thead>\n",
       "    <tr style=\"text-align: right;\">\n",
       "      <th></th>\n",
       "      <th>Nombre</th>\n",
       "      <th>Edad</th>\n",
       "    </tr>\n",
       "  </thead>\n",
       "  <tbody>\n",
       "    <tr>\n",
       "      <th>1</th>\n",
       "      <td>Luis</td>\n",
       "      <td>25</td>\n",
       "    </tr>\n",
       "    <tr>\n",
       "      <th>3</th>\n",
       "      <td>Marta</td>\n",
       "      <td>24</td>\n",
       "    </tr>\n",
       "    <tr>\n",
       "      <th>2</th>\n",
       "      <td>Pedro</td>\n",
       "      <td>23</td>\n",
       "    </tr>\n",
       "    <tr>\n",
       "      <th>0</th>\n",
       "      <td>Ana</td>\n",
       "      <td>22</td>\n",
       "    </tr>\n",
       "  </tbody>\n",
       "</table>\n",
       "</div>"
      ],
      "text/plain": [
       "  Nombre  Edad\n",
       "1   Luis    25\n",
       "3  Marta    24\n",
       "2  Pedro    23\n",
       "0    Ana    22"
      ]
     },
     "execution_count": 2,
     "metadata": {},
     "output_type": "execute_result"
    }
   ],
   "source": [
    "df.sort_values(by=\"Edad\", ascending=False)\n"
   ]
  },
  {
   "cell_type": "markdown",
   "id": "21feeacb",
   "metadata": {},
   "source": [
    "# Orden por varias columnas (por ejemplo, edad y luego nombre)"
   ]
  },
  {
   "cell_type": "code",
   "execution_count": 3,
   "id": "55e6b9d8",
   "metadata": {},
   "outputs": [
    {
     "data": {
      "text/html": [
       "<div>\n",
       "<style scoped>\n",
       "    .dataframe tbody tr th:only-of-type {\n",
       "        vertical-align: middle;\n",
       "    }\n",
       "\n",
       "    .dataframe tbody tr th {\n",
       "        vertical-align: top;\n",
       "    }\n",
       "\n",
       "    .dataframe thead th {\n",
       "        text-align: right;\n",
       "    }\n",
       "</style>\n",
       "<table border=\"1\" class=\"dataframe\">\n",
       "  <thead>\n",
       "    <tr style=\"text-align: right;\">\n",
       "      <th></th>\n",
       "      <th>Nombre</th>\n",
       "      <th>Edad</th>\n",
       "    </tr>\n",
       "  </thead>\n",
       "  <tbody>\n",
       "    <tr>\n",
       "      <th>0</th>\n",
       "      <td>Ana</td>\n",
       "      <td>22</td>\n",
       "    </tr>\n",
       "    <tr>\n",
       "      <th>2</th>\n",
       "      <td>Pedro</td>\n",
       "      <td>23</td>\n",
       "    </tr>\n",
       "    <tr>\n",
       "      <th>3</th>\n",
       "      <td>Marta</td>\n",
       "      <td>24</td>\n",
       "    </tr>\n",
       "    <tr>\n",
       "      <th>1</th>\n",
       "      <td>Luis</td>\n",
       "      <td>25</td>\n",
       "    </tr>\n",
       "  </tbody>\n",
       "</table>\n",
       "</div>"
      ],
      "text/plain": [
       "  Nombre  Edad\n",
       "0    Ana    22\n",
       "2  Pedro    23\n",
       "3  Marta    24\n",
       "1   Luis    25"
      ]
     },
     "execution_count": 3,
     "metadata": {},
     "output_type": "execute_result"
    }
   ],
   "source": [
    "df.sort_values(by=[\"Edad\", \"Nombre\"])\n"
   ]
  },
  {
   "cell_type": "markdown",
   "id": "deb0fd46",
   "metadata": {},
   "source": [
    "# Agrupacion de datos . `groupby()`"
   ]
  },
  {
   "cell_type": "code",
   "execution_count": 4,
   "id": "c0186639",
   "metadata": {},
   "outputs": [
    {
     "name": "stdout",
     "output_type": "stream",
     "text": [
      "Vendedor\n",
      "Ana      250\n",
      "Luis     500\n",
      "Pedro    400\n",
      "Name: Ventas, dtype: int64\n"
     ]
    }
   ],
   "source": [
    "datos = {\n",
    "    \"Vendedor\": [\"Ana\", \"Luis\", \"Ana\", \"Luis\", \"Pedro\"],\n",
    "    \"Ventas\": [100, 200, 150, 300, 400]\n",
    "}\n",
    "\n",
    "df = pd.DataFrame(datos)\n",
    "\n",
    "# Agrupar por vendedor y sumar las ventas\n",
    "df_group = df.groupby(\"Vendedor\")[\"Ventas\"].sum()\n",
    "print(df_group)\n"
   ]
  },
  {
   "cell_type": "markdown",
   "id": "2c4bd309",
   "metadata": {},
   "source": [
    "# Funciones mas usadas \n",
    "- sum ()  Suma los valores \n",
    "- mean () calcula el promedio \n",
    "- max () busca el valor maximo \n",
    "- min () busca el valor minimo \n",
    "- count () cuenta cuantas veces aparece"
   ]
  },
  {
   "cell_type": "markdown",
   "id": "adbded95",
   "metadata": {},
   "source": [
    "## Funcion `.agg()`"
   ]
  },
  {
   "cell_type": "code",
   "execution_count": 5,
   "id": "0b3ab7bc",
   "metadata": {},
   "outputs": [
    {
     "data": {
      "text/html": [
       "<div>\n",
       "<style scoped>\n",
       "    .dataframe tbody tr th:only-of-type {\n",
       "        vertical-align: middle;\n",
       "    }\n",
       "\n",
       "    .dataframe tbody tr th {\n",
       "        vertical-align: top;\n",
       "    }\n",
       "\n",
       "    .dataframe thead th {\n",
       "        text-align: right;\n",
       "    }\n",
       "</style>\n",
       "<table border=\"1\" class=\"dataframe\">\n",
       "  <thead>\n",
       "    <tr style=\"text-align: right;\">\n",
       "      <th></th>\n",
       "      <th>sum</th>\n",
       "      <th>max</th>\n",
       "      <th>min</th>\n",
       "      <th>count</th>\n",
       "    </tr>\n",
       "    <tr>\n",
       "      <th>Vendedor</th>\n",
       "      <th></th>\n",
       "      <th></th>\n",
       "      <th></th>\n",
       "      <th></th>\n",
       "    </tr>\n",
       "  </thead>\n",
       "  <tbody>\n",
       "    <tr>\n",
       "      <th>Ana</th>\n",
       "      <td>250</td>\n",
       "      <td>150</td>\n",
       "      <td>100</td>\n",
       "      <td>2</td>\n",
       "    </tr>\n",
       "    <tr>\n",
       "      <th>Luis</th>\n",
       "      <td>500</td>\n",
       "      <td>300</td>\n",
       "      <td>200</td>\n",
       "      <td>2</td>\n",
       "    </tr>\n",
       "    <tr>\n",
       "      <th>Pedro</th>\n",
       "      <td>400</td>\n",
       "      <td>400</td>\n",
       "      <td>400</td>\n",
       "      <td>1</td>\n",
       "    </tr>\n",
       "  </tbody>\n",
       "</table>\n",
       "</div>"
      ],
      "text/plain": [
       "          sum  max  min  count\n",
       "Vendedor                      \n",
       "Ana       250  150  100      2\n",
       "Luis      500  300  200      2\n",
       "Pedro     400  400  400      1"
      ]
     },
     "execution_count": 5,
     "metadata": {},
     "output_type": "execute_result"
    }
   ],
   "source": [
    "df.groupby(\"Vendedor\")[\"Ventas\"].agg([\"sum\", \"max\", \"min\", \"count\"])\n"
   ]
  },
  {
   "cell_type": "code",
   "execution_count": 6,
   "id": "a5eed7d8",
   "metadata": {},
   "outputs": [
    {
     "name": "stdout",
     "output_type": "stream",
     "text": [
      "          sum  count  max\n",
      "Vendedor                 \n",
      "Luis      500      2  300\n",
      "Pedro     450      2  400\n",
      "Ana       250      2  150\n"
     ]
    }
   ],
   "source": [
    "#  Ejemplo combinado: orden + agrupación\n",
    "datos = {\n",
    "    \"Vendedor\": [\"Ana\", \"Luis\", \"Ana\", \"Luis\", \"Pedro\", \"Pedro\"],\n",
    "    \"Ventas\": [100, 200, 150, 300, 400, 50]\n",
    "}\n",
    "\n",
    "df = pd.DataFrame(datos)\n",
    "\n",
    "# Agrupar por vendedor y sumar ventas\n",
    "resumen = df.groupby(\"Vendedor\")[\"Ventas\"].agg([\"sum\", \"count\", \"max\"])\n",
    "\n",
    "# Ordenar de mayor a menor según total de ventas\n",
    "resumen_ordenado = resumen.sort_values(by=\"sum\", ascending=False)\n",
    "\n",
    "print(resumen_ordenado)\n"
   ]
  }
 ],
 "metadata": {
  "kernelspec": {
   "display_name": "Python 3",
   "language": "python",
   "name": "python3"
  },
  "language_info": {
   "codemirror_mode": {
    "name": "ipython",
    "version": 3
   },
   "file_extension": ".py",
   "mimetype": "text/x-python",
   "name": "python",
   "nbconvert_exporter": "python",
   "pygments_lexer": "ipython3",
   "version": "3.12.10"
  }
 },
 "nbformat": 4,
 "nbformat_minor": 5
}

{
 "cells": [
  {
   "cell_type": "markdown",
   "id": "64e62b67",
   "metadata": {},
   "source": [
    "## Instalacion de pandas"
   ]
  },
  {
   "cell_type": "code",
   "execution_count": 1,
   "id": "c3891ab2",
   "metadata": {},
   "outputs": [
    {
     "name": "stdout",
     "output_type": "stream",
     "text": [
      "  Nombre  Edad\n",
      "0    Ana    23\n",
      "1   Luis    30\n",
      "2  Pedro    27\n"
     ]
    }
   ],
   "source": [
    "import pandas as pd\n",
    "\n",
    "datos = {\n",
    "    \"Nombre\": [\"Ana\", \"Luis\", \"Pedro\"],\n",
    "    \"Edad\": [23, 30, 27]\n",
    "}\n",
    "\n",
    "df = pd.DataFrame(datos)\n",
    "\n",
    "print(df)"
   ]
  }
 ],
 "metadata": {
  "kernelspec": {
   "display_name": "Python 3",
   "language": "python",
   "name": "python3"
  },
  "language_info": {
   "codemirror_mode": {
    "name": "ipython",
    "version": 3
   },
   "file_extension": ".py",
   "mimetype": "text/x-python",
   "name": "python",
   "nbconvert_exporter": "python",
   "pygments_lexer": "ipython3",
   "version": "3.12.10"
  }
 },
 "nbformat": 4,
 "nbformat_minor": 5
}

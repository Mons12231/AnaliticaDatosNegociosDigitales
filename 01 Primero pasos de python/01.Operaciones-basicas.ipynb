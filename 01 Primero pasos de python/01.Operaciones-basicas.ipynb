{
 "cells": [
  {
   "cell_type": "markdown",
   "id": "65716436",
   "metadata": {},
   "source": [
    "# Operaciones basicas en python"
   ]
  },
  {
   "cell_type": "markdown",
   "id": "f991d61c",
   "metadata": {},
   "source": [
    "## Declaración de variables y asignación de datos "
   ]
  },
  {
   "cell_type": "code",
   "execution_count": 1,
   "id": "0a70b3e6",
   "metadata": {},
   "outputs": [],
   "source": [
    "# Declaracion de variables y tipos\n",
    "a = 1 # Variable de tipo int\n",
    "b = 2.3 # Variable como flotante \n",
    "c = True # Variable de tipo boolean\n",
    "d = False # Variable de tipo boolean \n",
    "e = \"hola mundo\" # Variable  de tipo cadena \n",
    "f = 'hola negocios digitales' # Variable de tipo cadena \n"
   ]
  }
 ],
 "metadata": {
  "kernelspec": {
   "display_name": "Python 3",
   "language": "python",
   "name": "python3"
  },
  "language_info": {
   "codemirror_mode": {
    "name": "ipython",
    "version": 3
   },
   "file_extension": ".py",
   "mimetype": "text/x-python",
   "name": "python",
   "nbconvert_exporter": "python",
   "pygments_lexer": "ipython3",
   "version": "3.12.10"
  }
 },
 "nbformat": 4,
 "nbformat_minor": 5
}
